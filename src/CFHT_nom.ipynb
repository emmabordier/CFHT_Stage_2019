{
 "cells": [
  {
   "cell_type": "markdown",
   "metadata": {},
   "source": [
    "NOMENCLATURE: NOM DES SOURCES ASSOCIÉ\n",
    "+ Quelques compléments sur les headers en fin "
   ]
  },
  {
   "cell_type": "code",
   "execution_count": 97,
   "metadata": {},
   "outputs": [],
   "source": [
    "import numpy as np\n",
    "import matplotlib.pyplot as plt\n",
    "from mpl_toolkits.mplot3d import Axes3D\n",
    "from astropy.io import fits"
   ]
  },
  {
   "cell_type": "code",
   "execution_count": 98,
   "metadata": {},
   "outputs": [],
   "source": [
    "direc1='/Users/bordieremma/Documents/Magistere_3/STAGE_CFHT/Data/SPIRE_SPARSE/HR_spectrum_ext/'"
   ]
  },
  {
   "cell_type": "code",
   "execution_count": 99,
   "metadata": {},
   "outputs": [],
   "source": [
    "hdulist=Data1=fits.open(direc1+'hspirespectrometer1342268286_a1060001_spg_HR_20sds_1461751022540.fits')\n",
    "\n"
   ]
  },
  {
   "cell_type": "code",
   "execution_count": 100,
   "metadata": {},
   "outputs": [],
   "source": [
    "#hdulist.info()"
   ]
  },
  {
   "cell_type": "code",
   "execution_count": 101,
   "metadata": {},
   "outputs": [],
   "source": [
    "#hdulist[0].header"
   ]
  },
  {
   "cell_type": "code",
   "execution_count": 102,
   "metadata": {},
   "outputs": [
    {
     "name": "stdout",
     "output_type": "stream",
     "text": [
      "MGE_4524\n",
      "1342268286\n"
     ]
    }
   ],
   "source": [
    "print(hdulist[0].header['OBJECT'])\n",
    "print(hdulist[0].header['OBS_ID'])"
   ]
  },
  {
   "cell_type": "code",
   "execution_count": 103,
   "metadata": {},
   "outputs": [],
   "source": [
    "obj=hdulist[0].header['OBJECT']\n",
    "obs_id=hdulist[0].header['OBS_ID']"
   ]
  },
  {
   "cell_type": "code",
   "execution_count": 104,
   "metadata": {},
   "outputs": [],
   "source": [
    "OBJECT=[]\n",
    "OBS_ID=[]"
   ]
  },
  {
   "cell_type": "code",
   "execution_count": 105,
   "metadata": {},
   "outputs": [],
   "source": [
    "OBJECT.append(obj)\n",
    "OBS_ID.append(obs_id)"
   ]
  },
  {
   "cell_type": "code",
   "execution_count": 106,
   "metadata": {},
   "outputs": [
    {
     "name": "stdout",
     "output_type": "stream",
     "text": [
      "['MGE_4524']\n",
      "[1342268286]\n"
     ]
    }
   ],
   "source": [
    "print(OBJECT)\n",
    "print(OBS_ID)"
   ]
  },
  {
   "cell_type": "code",
   "execution_count": 107,
   "metadata": {},
   "outputs": [
    {
     "data": {
      "text/plain": [
       "1"
      ]
     },
     "execution_count": 107,
     "metadata": {},
     "output_type": "execute_result"
    }
   ],
   "source": [
    "len(OBJECT)"
   ]
  },
  {
   "cell_type": "code",
   "execution_count": 108,
   "metadata": {},
   "outputs": [],
   "source": [
    "OBJECT_PACS=['MGE_4384', 'MGE_3438', 'MGE_3448', 'MGE_3269', 'MGE_3280', 'MGE_3739', 'MGE_3736', 'MGE_3719', 'MGE_3222', 'MGE_3354', 'MGE_3360', 'MGE_3681', 'MGE_3670', 'MGE_4048', 'MGE_4191', 'MGE_4206', 'MGE_4134', 'MGE_4121', 'MGE_4095', 'MGE_4218', 'MGE_3899', 'MGE_4552', 'MGE_4436', 'MGE_4486', 'MGE_4485', 'MGE_4111', 'MGE_4110', 'MGE_4204', 'MGE_3149', 'MGE_4602', 'MGE_4473', 'MGE_4524', 'MGE_3834', 'MGE_4239', 'MGE_4167']\n",
    "\n",
    "OBS_ID_PACS=[1342226189, 1342231302, 1342231303, 1342231738, 1342231739, 1342231740, 1342231741, 1342231742, 1342231743, 1342231744, 1342231745, 1342231746, 1342231747, 1342238730, 1342239689, 1342239741, 1342239757, 1342240165, 1342240166, 1342240167, 1342241267, 1342242444, 1342242445, 1342242446, 1342243105, 1342243106, 1342243107, 1342243108, 1342243505, 1342243506, 1342243507, 1342243513, 1342243901, 1342250917, 1342252270]\n",
    "\n",
    "OBJECT_SPIRE_MAP=['MGE_4121', 'MGE_3269', 'MGE_3280', 'MGE_3739', 'MGE_3739', 'MGE_4384', 'MGE_4204', 'MGE_4111', 'MGE_4485']\n",
    "\n",
    "OBS_ID_SPIRE_MAP=[1342262927, 1342254039, 1342254040, 1342254041, 1342254041, 1342262919, 1342262924, 1342262926, 1342265807]\n",
    "\n",
    "OBJECT_SPIRE_SPARSE=['MGE_3681', 'MGE_3448', 'MGE_4048', 'MGE_4206', 'MGE_4095', 'MGE_4134', 'MGE_3149', 'MGE_4602', 'MGE_4524']\n",
    "\n",
    "OBS_ID_SPIRE_SPARSE=[1342253970, 1342253971, 1342262922, 1342262923, 1342262925, 1342265810, 1342268284, 1342268285, 1342268286]\n"
   ]
  },
  {
   "cell_type": "code",
   "execution_count": 109,
   "metadata": {},
   "outputs": [],
   "source": [
    "direc1='/Users/bordieremma/Documents/Magistere_3/STAGE_CFHT/Data/'"
   ]
  },
  {
   "cell_type": "code",
   "execution_count": 110,
   "metadata": {},
   "outputs": [],
   "source": [
    "hdulist_spec_HR=fits.open(direc1+'SPIRE_SPARSE/HR_spectrum_ext/hspirespectrometer1342253970_a1060001_spg_HR_20sds_1461673628333.fits')\n",
    "hdulist_map=fits.open(direc1+'SPIRE_MAPPING/HR_SLW/hspirespectrometer1342262927_spg_SLW_HR_20ssc_1461730902637.fits')\n",
    "\n",
    "\n"
   ]
  },
  {
   "cell_type": "code",
   "execution_count": 154,
   "metadata": {},
   "outputs": [
    {
     "name": "stdout",
     "output_type": "stream",
     "text": [
      "Filename: /Users/bordieremma/Documents/Magistere_3/STAGE_CFHT/Data/SPIRE_SPARSE/HR_spectrum_ext/hspirespectrometer1342253970_a1060001_spg_HR_20sds_1461673628333.fits\n",
      "No.    Name      Ver    Type      Cards   Dimensions   Format\n",
      "  0  PRIMARY       1 PrimaryHDU     408   ()      \n",
      "  1  0000          1 ImageHDU        88   ()      \n",
      "  2  SLWA1         1 BinTableHDU     90   1905R x 5C   [1D, 1D, 1D, 1J, 1J]   \n",
      "  3  SLWA2         1 BinTableHDU     90   1905R x 5C   [1D, 1D, 1D, 1J, 1J]   \n",
      "  4  SLWA3         1 BinTableHDU     90   1905R x 5C   [1D, 1D, 1D, 1J, 1J]   \n",
      "  5  SLWB1         1 BinTableHDU     90   1905R x 5C   [1D, 1D, 1D, 1J, 1J]   \n",
      "  6  SLWB2         1 BinTableHDU     90   1905R x 5C   [1D, 1D, 1D, 1J, 1J]   \n",
      "  7  SLWB3         1 BinTableHDU     90   1905R x 5C   [1D, 1D, 1D, 1J, 1J]   \n",
      "  8  SLWB4         1 BinTableHDU     90   1905R x 5C   [1D, 1D, 1D, 1J, 1J]   \n",
      "  9  SLWC1         1 BinTableHDU     90   1905R x 5C   [1D, 1D, 1D, 1J, 1J]   \n",
      " 10  SLWC2         1 BinTableHDU     90   1905R x 5C   [1D, 1D, 1D, 1J, 1J]   \n",
      " 11  SLWC3         1 BinTableHDU     90   1905R x 5C   [1D, 1D, 1D, 1J, 1J]   \n",
      " 12  SLWC4         1 BinTableHDU     90   1905R x 5C   [1D, 1D, 1D, 1J, 1J]   \n",
      " 13  SLWC5         1 BinTableHDU     90   1905R x 5C   [1D, 1D, 1D, 1J, 1J]   \n",
      " 14  SLWD1         1 BinTableHDU     90   1905R x 5C   [1D, 1D, 1D, 1J, 1J]   \n",
      " 15  SLWD2         1 BinTableHDU     90   1905R x 5C   [1D, 1D, 1D, 1J, 1J]   \n",
      " 16  SLWD3         1 BinTableHDU     90   1905R x 5C   [1D, 1D, 1D, 1J, 1J]   \n",
      " 17  SLWD4         1 BinTableHDU     90   1905R x 5C   [1D, 1D, 1D, 1J, 1J]   \n",
      " 18  SLWE1         1 BinTableHDU     90   1905R x 5C   [1D, 1D, 1D, 1J, 1J]   \n",
      " 19  SLWE2         1 BinTableHDU     90   1905R x 5C   [1D, 1D, 1D, 1J, 1J]   \n",
      " 20  SLWE3         1 BinTableHDU     90   1905R x 5C   [1D, 1D, 1D, 1J, 1J]   \n",
      " 21  SSWA1         1 BinTableHDU     90   2082R x 5C   [1D, 1D, 1D, 1J, 1J]   \n",
      " 22  SSWA2         1 BinTableHDU     90   2082R x 5C   [1D, 1D, 1D, 1J, 1J]   \n",
      " 23  SSWA3         1 BinTableHDU     90   2082R x 5C   [1D, 1D, 1D, 1J, 1J]   \n",
      " 24  SSWA4         1 BinTableHDU     90   2082R x 5C   [1D, 1D, 1D, 1J, 1J]   \n",
      " 25  SSWB1         1 BinTableHDU     90   2082R x 5C   [1D, 1D, 1D, 1J, 1J]   \n",
      " 26  SSWB2         1 BinTableHDU     90   2082R x 5C   [1D, 1D, 1D, 1J, 1J]   \n",
      " 27  SSWB3         1 BinTableHDU     90   2082R x 5C   [1D, 1D, 1D, 1J, 1J]   \n",
      " 28  SSWB4         1 BinTableHDU     90   2082R x 5C   [1D, 1D, 1D, 1J, 1J]   \n",
      " 29  SSWB5         1 BinTableHDU     90   2082R x 5C   [1D, 1D, 1D, 1J, 1J]   \n",
      " 30  SSWC1         1 BinTableHDU     90   2082R x 5C   [1D, 1D, 1D, 1J, 1J]   \n",
      " 31  SSWC2         1 BinTableHDU     90   2082R x 5C   [1D, 1D, 1D, 1J, 1J]   \n",
      " 32  SSWC3         1 BinTableHDU     90   2082R x 5C   [1D, 1D, 1D, 1J, 1J]   \n",
      " 33  SSWC4         1 BinTableHDU     90   2082R x 5C   [1D, 1D, 1D, 1J, 1J]   \n",
      " 34  SSWC5         1 BinTableHDU     90   2082R x 5C   [1D, 1D, 1D, 1J, 1J]   \n",
      " 35  SSWC6         1 BinTableHDU     90   2082R x 5C   [1D, 1D, 1D, 1J, 1J]   \n",
      " 36  SSWD1         1 BinTableHDU     90   2082R x 5C   [1D, 1D, 1D, 1J, 1J]   \n",
      " 37  SSWD2         1 BinTableHDU     90   2082R x 5C   [1D, 1D, 1D, 1J, 1J]   \n",
      " 38  SSWD3         1 BinTableHDU     90   2082R x 5C   [1D, 1D, 1D, 1J, 1J]   \n",
      " 39  SSWD4         1 BinTableHDU     90   2082R x 5C   [1D, 1D, 1D, 1J, 1J]   \n",
      " 40  SSWD6         1 BinTableHDU     90   2082R x 5C   [1D, 1D, 1D, 1J, 1J]   \n",
      " 41  SSWD7         1 BinTableHDU     90   2082R x 5C   [1D, 1D, 1D, 1J, 1J]   \n",
      " 42  SSWE1         1 BinTableHDU     90   2082R x 5C   [1D, 1D, 1D, 1J, 1J]   \n",
      " 43  SSWE2         1 BinTableHDU     90   2082R x 5C   [1D, 1D, 1D, 1J, 1J]   \n",
      " 44  SSWE3         1 BinTableHDU     90   2082R x 5C   [1D, 1D, 1D, 1J, 1J]   \n",
      " 45  SSWE4         1 BinTableHDU     90   2082R x 5C   [1D, 1D, 1D, 1J, 1J]   \n",
      " 46  SSWE5         1 BinTableHDU     90   2082R x 5C   [1D, 1D, 1D, 1J, 1J]   \n",
      " 47  SSWE6         1 BinTableHDU     90   2082R x 5C   [1D, 1D, 1D, 1J, 1J]   \n",
      " 48  SSWF1         1 BinTableHDU     90   2082R x 5C   [1D, 1D, 1D, 1J, 1J]   \n",
      " 49  SSWF2         1 BinTableHDU     90   2082R x 5C   [1D, 1D, 1D, 1J, 1J]   \n",
      " 50  SSWF3         1 BinTableHDU     90   2082R x 5C   [1D, 1D, 1D, 1J, 1J]   \n",
      " 51  SSWF5         1 BinTableHDU     90   2082R x 5C   [1D, 1D, 1D, 1J, 1J]   \n",
      " 52  SSWG1         1 BinTableHDU     90   2082R x 5C   [1D, 1D, 1D, 1J, 1J]   \n",
      " 53  SSWG2         1 BinTableHDU     90   2082R x 5C   [1D, 1D, 1D, 1J, 1J]   \n",
      " 54  SSWG3         1 BinTableHDU     90   2082R x 5C   [1D, 1D, 1D, 1J, 1J]   \n",
      " 55  SSWG4         1 BinTableHDU     90   2082R x 5C   [1D, 1D, 1D, 1J, 1J]   \n",
      " 56  History       1 ImageHDU        23   ()      \n",
      " 57  HistoryScript    1 BinTableHDU     39   88R x 1C   [351A]   \n",
      " 58  HistoryTasks    1 BinTableHDU     46   56R x 4C   [1K, 26A, 1K, 9A]   \n",
      " 59  HistoryParameters    1 BinTableHDU     74   233R x 10C   [1K, 20A, 7A, 21A, 1L, 1K, 1L, 74A, 11A, 38A]   \n"
     ]
    }
   ],
   "source": [
    "hdulist_spec_HR.info()"
   ]
  },
  {
   "cell_type": "code",
   "execution_count": 157,
   "metadata": {},
   "outputs": [
    {
     "data": {
      "text/plain": [
       "XTENSION= 'BINTABLE'           / Java FITS: Tue Apr 26 14:22:26 CEST 2016       \n",
       "BITPIX  =                    8                                                  \n",
       "NAXIS   =                    2 / Dimensionality                                 \n",
       "NAXIS1  =                   32                                                  \n",
       "NAXIS2  =                 1905                                                  \n",
       "PCOUNT  =                    0                                                  \n",
       "GCOUNT  =                    1                                                  \n",
       "TFIELDS =                    5                                                  \n",
       "LONGSTRN= 'OGIP 1.0'           / The OGIP long string convention may be used.   \n",
       "COMMENT This FITS file may contain long string keyword values that are          \n",
       "COMMENT continued over multiple keywords.  This convention uses the  '&'        \n",
       "COMMENT character at the end of a string which is then continued                \n",
       "COMMENT on subsequent keywords whose name = 'CONTINUE'.                         \n",
       "          -------------- Herschel Structure Data--------------------            \n",
       "          Following fields are private to the structure of the                  \n",
       "          Java object this HDU is representing.                                 \n",
       "EXTNAME = 'SLWD3   '           / name of this HDU                               \n",
       "CLASS___= 'herschel.spire.ia.dataset.SpireSpectrum1d' / java representation     \n",
       "          -------------- Herschel Parameter Data--------------------            \n",
       "          All actual parameter names are converted to FITS compliant            \n",
       "          conventions. Note that the HIERARCH comments contain the              \n",
       "          appropriate key mapping                                               \n",
       "DEC     =   2.3310381269044242 / [deg] Actual Declination of pointing for thi&  \n",
       "COMMENT s channel                                                               \n",
       "RA      =    284.3742887573192 / [deg] Actual Right Ascension of pointing for&  \n",
       "COMMENT ~this channel                                                           \n",
       "CHNLNAME= 'SLWD3   '           / Channel name                                   \n",
       "META_0  =   1.4423268405862835 / [deg] The maximum in-band residual phase for&  \n",
       "COMMENT ~a given interferogram/spectrum                                         \n",
       "PCWRAP  =                    0 / [] Number of times that in-band phase change&  \n",
       "COMMENT s by +/-2pi                                                             \n",
       "WAVEUNIT= 'GHz     '           / Units of the WaveColumn                        \n",
       "WAVEDESC= 'Frequency'          / Description of WaveColumn                      \n",
       "ACTRES  =           1.18448225 / [GHz] Unpadded Spectral Resolution             \n",
       "META_1  =               12.655 / [cm] Maximum Unpadded Optical Path Difference  \n",
       "META_2  =                -0.56 / [cm] Minimum Unpadded Optical Path Difference  \n",
       "META_3  =               0.0025 / [cm] OPD Step Size                             \n",
       "META_4  =           5995.84916 / [GHz] Spectral Nyquist Frequency (1/2(deltaO&  \n",
       "COMMENT pd))                                                                    \n",
       "META_5  =                 5063 / [] Number of unique samples in the FFT         \n",
       "META_6  =                40000 / [] Total number of samples in the padded FFT&  \n",
       "COMMENT ~(same as nFft if no padding)                                           \n",
       "HIERARCH  key.DEC='dec'                                                         \n",
       "HIERARCH  key.RA='ra'                                                           \n",
       "HIERARCH  key.CHNLNAME='channelName'                                            \n",
       "HIERARCH  key.META_0='qcResidualPhase'                                          \n",
       "HIERARCH  key.PCWRAP='qcPhaseWrap'                                              \n",
       "HIERARCH  key.WAVEUNIT='waveunit'                                               \n",
       "HIERARCH  key.WAVEDESC='wavedescription'                                        \n",
       "HIERARCH  key.ACTRES='actualResolution'                                         \n",
       "HIERARCH  key.META_1='maxOpd'                                                   \n",
       "HIERARCH  key.META_2='minOpd'                                                   \n",
       "HIERARCH  key.META_3='deltaOpd'                                                 \n",
       "HIERARCH  key.META_4='nyquist'                                                  \n",
       "HIERARCH  key.META_5='numFft'                                                   \n",
       "HIERARCH  key.META_6='numFftFull'                                               \n",
       "          ---------------Herschel Column Information----------------            \n",
       "          Below follow additional fields to re-create the table                 \n",
       "          columns into herschel.ia.dataset.Column objects                       \n",
       "          * TTYPExxx - Column name                                              \n",
       "          * TCOLUxxx - Java Column container                                    \n",
       "          * TCLASxxx - Java ArrayData container                                 \n",
       "          * TFORMxxx - FITS column type                                         \n",
       "          * TDIMxxx  - FITS column dimensions                                   \n",
       "          * TUNITxxx - herschel.share.unit.Unit                                 \n",
       "TFORM1  = '1D      '                                                            \n",
       "TFORM2  = '1D      '                                                            \n",
       "TFORM3  = '1D      '                                                            \n",
       "TFORM4  = '1J      '                                                            \n",
       "TFORM5  = '1J      '                                                            \n",
       "TTYPE1  = 'wave    '           / Frequency                                      \n",
       "TCOLU1  = 'herschel.ia.dataset.spectrum.WaveColumn'                             \n",
       "TCLAS1  = 'herschel.ia.numeric.Double1d'                                        \n",
       "TUNIT1  = 'GHz     '           / herschel.share.unit.Unit                       \n",
       "TTYPE2  = 'flux    '           / Brightness                                     \n",
       "TCOLU2  = 'herschel.ia.dataset.Column'                                          \n",
       "TCLAS2  = 'herschel.ia.numeric.Double1d'                                        \n",
       "TUNIT2  = 'W m-2 Hz-1 sr-1'    / herschel.share.unit.Unit                       \n",
       "TTYPE3  = 'error   '           / Uncertainty                                    \n",
       "TCOLU3  = 'herschel.ia.dataset.Column'                                          \n",
       "TCLAS3  = 'herschel.ia.numeric.Double1d'                                        \n",
       "TUNIT3  = 'W m-2 Hz-1 sr-1'    / herschel.share.unit.Unit                       \n",
       "TTYPE4  = 'mask    '           / Mask                                           \n",
       "TCOLU4  = 'herschel.ia.dataset.Column'                                          \n",
       "TCLAS4  = 'herschel.ia.numeric.Int1d'                                           \n",
       "TUNIT4  = '1       '           / herschel.share.unit.Unit                       \n",
       "TTYPE5  = 'numScans'           / Number Of Scans                                \n",
       "TCOLU5  = 'herschel.ia.dataset.Column'                                          \n",
       "TUNIT5  = '1       '           / herschel.share.unit.Unit                       \n",
       "TCLAS5  = 'herschel.ia.numeric.Int1d'                                           "
      ]
     },
     "execution_count": 157,
     "metadata": {},
     "output_type": "execute_result"
    }
   ],
   "source": [
    "hdulist_spec_HR[16].header"
   ]
  },
  {
   "cell_type": "code",
   "execution_count": 113,
   "metadata": {},
   "outputs": [],
   "source": [
    "MAP_SLW=fits.open(direc1+'SPIRE_MAPPING/HR_SLW/hspirespectrometer1342262927_spg_SLW_HR_20ssc_1461730902637.fits')\n",
    "MAP_SSW=fits.open(direc1+'SPIRE_MAPPING/HR_SSW/hspirespectrometer1342262927_spg_SSW_HR_20ssc_1461730905192.fits')\n",
    "\n"
   ]
  },
  {
   "cell_type": "code",
   "execution_count": 114,
   "metadata": {},
   "outputs": [
    {
     "name": "stdout",
     "output_type": "stream",
     "text": [
      "Filename: /Users/bordieremma/Documents/Magistere_3/STAGE_CFHT/Data/SPIRE_MAPPING/HR_SLW/hspirespectrometer1342262927_spg_SLW_HR_20ssc_1461730902637.fits\n",
      "No.    Name      Ver    Type      Cards   Dimensions   Format\n",
      "  0  PRIMARY       1 PrimaryHDU     338   ()      \n",
      "  1  image         1 ImageHDU        63   (6, 8, 1905)   float64   \n",
      "  2  error         1 ImageHDU        63   (6, 8, 1905)   float64   \n",
      "  3  coverage      1 ImageHDU        63   (6, 8, 1905)   float64   \n",
      "  4  flag          1 ImageHDU        26   (6, 8, 1905)   int16   \n"
     ]
    }
   ],
   "source": [
    "MAP_SLW.info()"
   ]
  },
  {
   "cell_type": "code",
   "execution_count": 115,
   "metadata": {},
   "outputs": [
    {
     "data": {
      "text/plain": [
       "XTENSION= 'IMAGE   '           / Java FITS: Wed Apr 27 06:11:39 CEST 2016       \n",
       "BITPIX  =                  -64                                                  \n",
       "NAXIS   =                    3 / Dimensionality                                 \n",
       "NAXIS1  =                    6                                                  \n",
       "NAXIS2  =                    8                                                  \n",
       "NAXIS3  =                 1905                                                  \n",
       "PCOUNT  =                    0 / No extra parameters                            \n",
       "GCOUNT  =                    1 / One group                                      \n",
       "LONGSTRN= 'OGIP 1.0'           / The OGIP long string convention may be used.   \n",
       "COMMENT This FITS file may contain long string keyword values that are          \n",
       "COMMENT continued over multiple keywords.  This convention uses the  '&'        \n",
       "COMMENT character at the end of a string which is then continued                \n",
       "COMMENT on subsequent keywords whose name = 'CONTINUE'.                         \n",
       "          -------------- Herschel Structure Data--------------------            \n",
       "          Following fields are private to the structure of the                  \n",
       "          Java object this HDU is representing.                                 \n",
       "EXTNAME = 'image   '           / name of this HDU                               \n",
       "CLASS___= 'herschel.ia.dataset.ArrayDataset' / java representation              \n",
       "INFO____= 'Brightness'                                                          \n",
       "DATA____= 'herschel.ia.numeric.Double3d' / java Data                            \n",
       "QTTY____= 'W m-2 Hz-1 sr-1'    / Unit of the data                               \n",
       "BUNIT   = 'W m-2 Hz-1 sr-1'    / Unit of the data                               \n",
       "          -------------- Herschel Parameter Data--------------------            \n",
       "          All actual parameter names are converted to FITS compliant            \n",
       "          conventions. Note that the HIERARCH comments contain the              \n",
       "          appropriate key mapping                                               \n",
       "CUNIT1  = 'deg     '           / WCS: Unit axis 1, default=\"\"                   \n",
       "CUNIT2  = 'deg     '           / WCS: Unit axis 2, default=\"\"                   \n",
       "CUNIT3  = 'GHz     '           / WCS: Unit axis 3, default=\"\"                   \n",
       "META_0  = 'Equatorial'         / WCS: Reference frame, default=\"ICRS\"           \n",
       "CDELT1  =   -0.009722222222222 / [] WCS: Pixel scale axis 1, unit=Angle         \n",
       "CDELT2  = 0.009722222222222222 / [] WCS: Pixel scale axis 2, unit=Angle         \n",
       "CTYPE1  = 'RA---TAN'           / WCS: Projection type axis 1, default=\"LINEAR\"  \n",
       "CTYPE2  = 'DEC--TAN'           / WCS: Projection type axis 2, default=\"LINEAR\"  \n",
       "CRVAL1  =              249.178 / [] WCS: First coordinate of reference pixel    \n",
       "CRVAL2  =             -46.9391 / [] WCS: Second coordinate of reference pixel   \n",
       "CRPIX2  =                  4.0 / [] WCS: Reference pixel position axis 2, uni&  \n",
       "COMMENT t=Scalar                                                                \n",
       "CRPIX1  =                  4.0 / [] WCS: Reference pixel position axis 1, uni&  \n",
       "COMMENT t=Scalar                                                                \n",
       "CRVAL3  =         446.99055488 / [] WCS: Wavelength, time, ... of reference l&  \n",
       "COMMENT ayer; unit=length,time,...                                              \n",
       "CRPIX3  =                  1.0 / [] WCS: Reference layer index, unit=Scalar     \n",
       "CDELT3  =   0.2997924579989496 / [] WCS: Scale in 3rd dimension, unit=Length,&  \n",
       "COMMENT ~Duration, ...                                                          \n",
       "CTYPE3  = 'Frequency&'                                                          \n",
       "CONTINUE  '' / &                                                                \n",
       "COMMENT WCS: Description of what the 3rd axis represents                        \n",
       "HIERARCH  key.CUNIT1='cunit1'                                                   \n",
       "HIERARCH  key.CUNIT2='cunit2'                                                   \n",
       "HIERARCH  key.CUNIT3='cunit3'                                                   \n",
       "HIERARCH  key.META_0='radesys'                                                  \n",
       "HIERARCH  key.CDELT1='cdelt1'                                                   \n",
       "HIERARCH  key.CDELT2='cdelt2'                                                   \n",
       "HIERARCH  key.CTYPE1='ctype1'                                                   \n",
       "HIERARCH  key.CTYPE2='ctype2'                                                   \n",
       "HIERARCH  key.CRVAL1='crval1'                                                   \n",
       "HIERARCH  key.CRVAL2='crval2'                                                   \n",
       "HIERARCH  key.CRPIX2='crpix2'                                                   \n",
       "HIERARCH  key.CRPIX1='crpix1'                                                   \n",
       "HIERARCH  key.CRVAL3='crval3'                                                   \n",
       "HIERARCH  key.CRPIX3='crpix3'                                                   \n",
       "HIERARCH  key.CDELT3='cdelt3'                                                   \n",
       "HIERARCH  key.CTYPE3='ctype3'                                                   "
      ]
     },
     "execution_count": 115,
     "metadata": {},
     "output_type": "execute_result"
    }
   ],
   "source": [
    "MAP_SLW[1].header\n"
   ]
  },
  {
   "cell_type": "code",
   "execution_count": 116,
   "metadata": {},
   "outputs": [
    {
     "data": {
      "text/plain": [
       "XTENSION= 'IMAGE   '           / Java FITS: Wed Apr 27 06:11:39 CEST 2016       \n",
       "BITPIX  =                  -64                                                  \n",
       "NAXIS   =                    3 / Dimensionality                                 \n",
       "NAXIS1  =                   12                                                  \n",
       "NAXIS2  =                   12                                                  \n",
       "NAXIS3  =                 2082                                                  \n",
       "PCOUNT  =                    0 / No extra parameters                            \n",
       "GCOUNT  =                    1 / One group                                      \n",
       "LONGSTRN= 'OGIP 1.0'           / The OGIP long string convention may be used.   \n",
       "COMMENT This FITS file may contain long string keyword values that are          \n",
       "COMMENT continued over multiple keywords.  This convention uses the  '&'        \n",
       "COMMENT character at the end of a string which is then continued                \n",
       "COMMENT on subsequent keywords whose name = 'CONTINUE'.                         \n",
       "          -------------- Herschel Structure Data--------------------            \n",
       "          Following fields are private to the structure of the                  \n",
       "          Java object this HDU is representing.                                 \n",
       "EXTNAME = 'image   '           / name of this HDU                               \n",
       "CLASS___= 'herschel.ia.dataset.ArrayDataset' / java representation              \n",
       "INFO____= 'Brightness'                                                          \n",
       "DATA____= 'herschel.ia.numeric.Double3d' / java Data                            \n",
       "QTTY____= 'W m-2 Hz-1 sr-1'    / Unit of the data                               \n",
       "BUNIT   = 'W m-2 Hz-1 sr-1'    / Unit of the data                               \n",
       "          -------------- Herschel Parameter Data--------------------            \n",
       "          All actual parameter names are converted to FITS compliant            \n",
       "          conventions. Note that the HIERARCH comments contain the              \n",
       "          appropriate key mapping                                               \n",
       "CUNIT1  = 'deg     '           / WCS: Unit axis 1, default=\"\"                   \n",
       "CUNIT2  = 'deg     '           / WCS: Unit axis 2, default=\"\"                   \n",
       "CUNIT3  = 'GHz     '           / WCS: Unit axis 3, default=\"\"                   \n",
       "META_0  = 'Equatorial'         / WCS: Reference frame, default=\"ICRS\"           \n",
       "CDELT1  =   -0.005277777777778 / [] WCS: Pixel scale axis 1, unit=Angle         \n",
       "CDELT2  = 0.005277777777777778 / [] WCS: Pixel scale axis 2, unit=Angle         \n",
       "CTYPE1  = 'RA---TAN'           / WCS: Projection type axis 1, default=\"LINEAR\"  \n",
       "CTYPE2  = 'DEC--TAN'           / WCS: Projection type axis 2, default=\"LINEAR\"  \n",
       "CRVAL1  =              249.178 / [] WCS: First coordinate of reference pixel    \n",
       "CRVAL2  =             -46.9391 / [] WCS: Second coordinate of reference pixel   \n",
       "CRPIX2  =                  6.0 / [] WCS: Reference pixel position axis 2, uni&  \n",
       "COMMENT t=Scalar                                                                \n",
       "CRPIX1  =                  7.0 / [] WCS: Reference pixel position axis 1, uni&  \n",
       "COMMENT t=Scalar                                                                \n",
       "CRVAL3  =         944.04645024 / [] WCS: Wavelength, time, ... of reference l&  \n",
       "COMMENT ayer; unit=length,time,...                                              \n",
       "CRPIX3  =                  1.0 / [] WCS: Reference layer index, unit=Scalar     \n",
       "CDELT3  =   0.2997924580009611 / [] WCS: Scale in 3rd dimension, unit=Length,&  \n",
       "COMMENT ~Duration, ...                                                          \n",
       "CTYPE3  = 'Frequency&'                                                          \n",
       "CONTINUE  '' / &                                                                \n",
       "COMMENT WCS: Description of what the 3rd axis represents                        \n",
       "HIERARCH  key.CUNIT1='cunit1'                                                   \n",
       "HIERARCH  key.CUNIT2='cunit2'                                                   \n",
       "HIERARCH  key.CUNIT3='cunit3'                                                   \n",
       "HIERARCH  key.META_0='radesys'                                                  \n",
       "HIERARCH  key.CDELT1='cdelt1'                                                   \n",
       "HIERARCH  key.CDELT2='cdelt2'                                                   \n",
       "HIERARCH  key.CTYPE1='ctype1'                                                   \n",
       "HIERARCH  key.CTYPE2='ctype2'                                                   \n",
       "HIERARCH  key.CRVAL1='crval1'                                                   \n",
       "HIERARCH  key.CRVAL2='crval2'                                                   \n",
       "HIERARCH  key.CRPIX2='crpix2'                                                   \n",
       "HIERARCH  key.CRPIX1='crpix1'                                                   \n",
       "HIERARCH  key.CRVAL3='crval3'                                                   \n",
       "HIERARCH  key.CRPIX3='crpix3'                                                   \n",
       "HIERARCH  key.CDELT3='cdelt3'                                                   \n",
       "HIERARCH  key.CTYPE3='ctype3'                                                   "
      ]
     },
     "execution_count": 116,
     "metadata": {},
     "output_type": "execute_result"
    }
   ],
   "source": [
    "MAP_SSW[1].header"
   ]
  },
  {
   "cell_type": "code",
   "execution_count": 117,
   "metadata": {},
   "outputs": [],
   "source": [
    "Flux_SLW=MAP_SLW[1].data\n",
    "Flux_SSW=MAP_SSW[1].data\n",
    "Flux_mean_SLW=np.nanmean(Flux_SLW,axis=(1,2))\n",
    "Flux_mean_SSW=np.nanmean(Flux_SSW,axis=(1,2))"
   ]
  },
  {
   "cell_type": "code",
   "execution_count": 118,
   "metadata": {},
   "outputs": [],
   "source": [
    "wave_short=np.arange((MAP_SSW[1].header['NAXIS3']))\n",
    "wave_long=np.arange(len(Flux_SLW))"
   ]
  },
  {
   "cell_type": "code",
   "execution_count": 119,
   "metadata": {},
   "outputs": [
    {
     "name": "stdout",
     "output_type": "stream",
     "text": [
      "2082\n",
      "1905\n",
      "2082\n",
      "1905\n"
     ]
    }
   ],
   "source": [
    "print (len(wave_short))\n",
    "print(len(wave_long))\n",
    "print (len(Flux_SSW))\n",
    "print (len(Flux_SLW))"
   ]
  },
  {
   "cell_type": "code",
   "execution_count": 120,
   "metadata": {},
   "outputs": [],
   "source": [
    "wave_SSW=MAP_SSW[1].header['CRVAL3']+MAP_SSW[1].header['CDELT3']*wave_short\n",
    "wave_SLW=MAP_SLW[1].header['CRVAL3']+MAP_SLW[1].header['CDELT3']*wave_long"
   ]
  },
  {
   "cell_type": "code",
   "execution_count": 121,
   "metadata": {},
   "outputs": [
    {
     "data": {
      "text/plain": [
       "array([ 446.99055488,  447.29034734,  447.5901398 , ..., 1017.19580999,\n",
       "       1017.49560245, 1017.79539491])"
      ]
     },
     "execution_count": 121,
     "metadata": {},
     "output_type": "execute_result"
    }
   ],
   "source": [
    "wave_SLW"
   ]
  },
  {
   "cell_type": "code",
   "execution_count": 122,
   "metadata": {},
   "outputs": [
    {
     "data": {
      "text/plain": [
       "944.04645024"
      ]
     },
     "execution_count": 122,
     "metadata": {},
     "output_type": "execute_result"
    }
   ],
   "source": [
    "MAP_SSW[1].header['CRVAL3']"
   ]
  },
  {
   "cell_type": "code",
   "execution_count": 123,
   "metadata": {},
   "outputs": [
    {
     "data": {
      "image/png": "[encoded data removed]",
      "text/plain": [
       "<matplotlib.figure.Figure at 0x109397be0>"
      ]
     },
     "metadata": {},
     "output_type": "display_data"
    }
   ],
   "source": [
    "plt.figure()\n",
    "plt.plot(wave_SLW,Flux_mean_SLW,label='SLW')\n",
    "plt.plot(wave_SSW,Flux_mean_SSW,label='SSW')\n",
    "\n",
    "plt.legend()\n",
    "plt.show()"
   ]
  },
  {
   "cell_type": "code",
   "execution_count": 124,
   "metadata": {},
   "outputs": [],
   "source": [
    "from astropy.wcs import WCS\n",
    "from astropy.utils.data import get_pkg_data_filename\n"
   ]
  },
  {
   "cell_type": "code",
   "execution_count": 151,
   "metadata": {},
   "outputs": [
    {
     "name": "stdout",
     "output_type": "stream",
     "text": [
      "WCS Keywords\n",
      "\n",
      "Number of WCS axes: 2\n",
      "CTYPE : 'RA---TAN'  'DEC--TAN'  \n",
      "CRVAL : 249.178  -46.9391  \n",
      "CRPIX : 7.0  6.0  \n",
      "PC1_1 PC1_2  : 1.0  0.0  \n",
      "PC2_1 PC2_2  : 0.0  1.0  \n",
      "CDELT : -0.005277777777778  0.005277777777777778  \n",
      "NAXIS : 12  12  2082\n"
     ]
    }
   ],
   "source": [
    "hdu=MAP_SSW[1]\n",
    "wcs=WCS(hdu.header,naxis=2)\n",
    "w_celestial_axes = wcs.celestial\n",
    "print(wcs)"
   ]
  },
  {
   "cell_type": "code",
   "execution_count": 147,
   "metadata": {},
   "outputs": [
    {
     "name": "stderr",
     "output_type": "stream",
     "text": [
      "/Users/bordieremma/anaconda3/lib/python3.6/site-packages/ipykernel_launcher.py:2: RuntimeWarning: Mean of empty slice\n",
      "  \n"
     ]
    }
   ],
   "source": [
    "flux1=hdu.data\n",
    "flux=np.nanmean(MAP_SSW[1].data,axis=0)"
   ]
  },
  {
   "cell_type": "code",
   "execution_count": 153,
   "metadata": {},
   "outputs": [
    {
     "data": {
      "image/png": "[encoded data removed]",
      "text/plain": [
       "<matplotlib.figure.Figure at 0x1094c7278>"
      ]
     },
     "metadata": {},
     "output_type": "display_data"
    }
   ],
   "source": [
    "fig=plt.figure()\n",
    "fig.add_subplot(111,projection=wcs)\n",
    "plt.imshow(flux,origin='lower',cmap=plt.cm.viridis)\n",
    "plt.xlabel('RA')\n",
    "plt.ylabel('Dec')\n",
    "plt.show()"
   ]
  },
  {
   "cell_type": "code",
   "execution_count": 135,
   "metadata": {},
   "outputs": [
    {
     "ename": "SyntaxError",
     "evalue": "unexpected EOF while parsing (<ipython-input-135-961a0fb72bcb>, line 10)",
     "output_type": "error",
     "traceback": [
      "\u001b[0;36m  File \u001b[0;32m\"<ipython-input-135-961a0fb72bcb>\"\u001b[0;36m, line \u001b[0;32m10\u001b[0m\n\u001b[0;31m    #plt.show()\u001b[0m\n\u001b[0m               ^\u001b[0m\n\u001b[0;31mSyntaxError\u001b[0m\u001b[0;31m:\u001b[0m unexpected EOF while parsing\n"
     ]
    }
   ],
   "source": [
    "hdu = MAP_SSW[0]\n",
    "wcs = WCS(hdu.header)\n",
    "flux=MAP_SSW[1].data\n",
    "\n",
    "fig = plt.figure()\n",
    "fig.add_subplot(111, projection=wcs)\n",
    "plt.imshow(np.nanmean(flux,axis=0, origin='lower', cmap=plt.cm.viridis)\n",
    "plt.xlabel('RA')\n",
    "plt.ylabel('Dec')\n",
    "plt.show()"
   ]
  },
  {
   "cell_type": "code",
   "execution_count": 92,
   "metadata": {},
   "outputs": [
    {
     "name": "stdout",
     "output_type": "stream",
     "text": [
      "[6.87835620e-18 6.82338846e-18 6.74913771e-18 ... 2.50200369e-17\n",
      " 2.49904228e-17 2.50168993e-17]\n"
     ]
    }
   ],
   "source": [
    "np.shape(MAP_SSW[1].data)\n",
    "print(np.nanmean(flux,axis=(1,2)))"
   ]
  },
  {
   "cell_type": "code",
   "execution_count": 82,
   "metadata": {},
   "outputs": [],
   "source": [
    "w = wcs.WCS(naxis=2)"
   ]
  },
  {
   "cell_type": "code",
   "execution_count": 84,
   "metadata": {},
   "outputs": [],
   "source": [
    "w.wcs.crpix = [MAP_SSW[1].header['CRPIX1'], MAP_SSW[1].header['CRPIX2']]\n",
    "w.wcs.cdelt = np.array([MAP_SSW[1].header['CDELT1'], MAP_SSW[1].header['CDELT2']])\n",
    "w.wcs.crval = [MAP_SSW[1].header['CRVAL1'], MAP_SSW[1].header['CRVAL2']]\n",
    "w.wcs.ctype = [\"RA---TAN\", \"DEC--TAN\"]\n",
    "w.wcs.set_pv([(2, 1, 45.0)])"
   ]
  },
  {
   "cell_type": "code",
   "execution_count": null,
   "metadata": {},
   "outputs": [],
   "source": [
    "world = w.wcs_pix2world(pixcrd, 1)\n",
    "print(world)"
   ]
  }
 ],
 "metadata": {
  "kernelspec": {
   "display_name": "Python 3",
   "language": "python",
   "name": "python3"
  },
  "language_info": {
   "codemirror_mode": {
    "name": "ipython",
    "version": 3
   },
   "file_extension": ".py",
   "mimetype": "text/x-python",
   "name": "python",
   "nbconvert_exporter": "python",
   "pygments_lexer": "ipython3",
   "version": "3.6.4"
  }
 },
 "nbformat": 4,
 "nbformat_minor": 2
}
