{
 "cells": [
  {
   "cell_type": "markdown",
   "metadata": {},
   "source": [
    "STAGE 2019 - Routines Python - Notebook"
   ]
  },
  {
   "cell_type": "code",
   "execution_count": 184,
   "metadata": {},
   "outputs": [],
   "source": [
    "import numpy as np\n",
    "import matplotlib.pyplot as plt\n",
    "from mpl_toolkits.mplot3d import Axes3D\n",
    "from astropy.io import fits\n"
   ]
  },
  {
   "cell_type": "code",
   "execution_count": 185,
   "metadata": {},
   "outputs": [],
   "source": [
    "direc1='/Users/bordieremma/Documents/Magistere_3/STAGE_CFHT/Data/Herschel_pipeline/'"
   ]
  },
  {
   "cell_type": "code",
   "execution_count": 421,
   "metadata": {},
   "outputs": [],
   "source": [
    "Data1=fits.open(direc1+'1342226189/level2/HPS3DB/herschel.pacs.signal.PacsCube/hpacs1342226189_20hps3dbs_00_1469490699505.fits')\n",
    "Data2=fits.open(direc1+'1342226189/level2/HPS3DR/herschel.pacs.signal.PacsCube/hpacs1342226189_20hps3drs_00_1469490795193.fits')\n",
    "\n",
    "DataB=fits.open(direc1+'1342226189/level2/HPSSPECB/herschel.pacs.signal.PacsCentralSpectrum/hpacs1342226189_20hpsspecbs_00_1469490352729.fits')\n",
    "DataR=fits.open(direc1+'1342226189/level2/HPSSPECR/herschel.pacs.signal.PacsCentralSpectrum/hpacs1342226189_20hpsspecrs_00_1469490353299.fits')\n"
   ]
  },
  {
   "cell_type": "code",
   "execution_count": 422,
   "metadata": {},
   "outputs": [
    {
     "name": "stdout",
     "output_type": "stream",
     "text": [
      "Filename: /Users/bordieremma/Documents/Magistere_3/STAGE_CFHT/Data/Herschel_pipeline/1342226189/level2/HPS3DB/herschel.pacs.signal.PacsCube/hpacs1342226189_20hps3dbs_00_1469490699505.fits\n",
      "No.    Name      Ver    Type      Cards   Dimensions   Format\n",
      "  0  PRIMARY       1 PrimaryHDU     316   ()      \n",
      "  1  flux          1 ImageHDU        22   (5, 5, 197632)   float64   \n",
      "  2  wave          1 ImageHDU        22   (5, 5, 197632)   float64   \n",
      "  3  ra            1 ImageHDU        22   (5, 5, 197632)   float64   \n",
      "  4  dec           1 ImageHDU        22   (5, 5, 197632)   float64   \n",
      "  5  Mask          1 ImageHDU        50   ()      \n",
      "  6  BLINDPIXELS    1 ImageHDU        34   (5, 5, 6176)   int32   \n",
      "  7  SATURATION    1 ImageHDU        34   (5, 5, 6176)   int32   \n",
      "  8  RAWSATURATION    1 ImageHDU        34   (5, 5, 6176)   int32   \n",
      "  9  OUTOFBAND     1 ImageHDU        34   (5, 5, 6176)   int32   \n",
      " 10  NOISYPIXELS    1 ImageHDU        34   (5, 5, 6176)   int32   \n",
      " 11  BADPIXELS     1 ImageHDU        34   (5, 5, 6176)   int32   \n",
      " 12  UNCLEANCHOP    1 ImageHDU        34   (5, 5, 6176)   int32   \n",
      " 13  GRATMOVE      1 ImageHDU        34   (5, 5, 6176)   int32   \n",
      " 14  GLITCH        1 ImageHDU        34   (5, 5, 6176)   int32   \n",
      " 15  INVALID       1 ImageHDU        34   (5, 5, 6176)   int32   \n",
      " 16  NOTFFED       1 ImageHDU        34   (5, 5, 6176)   int32   \n",
      " 17  OUTLIERS      1 ImageHDU        34   (5, 5, 6176)   int32   \n",
      " 18  Status        1 BinTableHDU    348   197632R x 73C   [1J, 1K, 1K, 1J, 1J, 1K, 1J, 1J, 1J, 1J, 1J, 1J, 1J, 1J, 1L, 1J, 1J, 1J, 1L, 1J, 1J, 1J, 1J, 1J, 3A, 1J, 1J, 1D, 1J, 1L, 1K, 1D, 1D, 1D, 1D, 1D, 1D, 13A, 1K, 1K, 1K, 1L, 1L, 1L, 1L, 1K, 1J, 3A, 5A, 1L, 1L, 1L, 1L, 1L, 1D, 1D, 1D, 1D, 1D, 1D, 1J, 1J, 6A, 1L, 1L, 1D, 1D, 1D, 2J, 1J, 1J, 1J, 1J]   \n",
      " 19  BlockTable    1 BinTableHDU    174   6R x 33C   [1J, 1J, 1J, 1J, 1J, 1J, 1J, 1J, 1K, 1K, 1D, 22A, 36A, 1J, 1J, 1J, 1J, 1J, 1J, 1J, 1J, 1L, 3A, 1J, 1J, 1J, 1J, 1J, 1J, 1D, 1D, 10A, 1J]   \n",
      " 20  History       1 ImageHDU        23   ()      \n",
      " 21  HistoryScript    1 BinTableHDU     39   56R x 1C   [233A]   \n",
      " 22  HistoryTasks    1 BinTableHDU     46   51R x 4C   [1K, 31A, 1K, 9A]   \n",
      " 23  HistoryParameters    1 BinTableHDU     74   505R x 10C   [1K, 23A, 13A, 77A, 1L, 1K, 1L, 58A, 11A, 42A]   \n"
     ]
    }
   ],
   "source": [
    "Data1.info()"
   ]
  },
  {
   "cell_type": "code",
   "execution_count": 423,
   "metadata": {},
   "outputs": [
    {
     "name": "stdout",
     "output_type": "stream",
     "text": [
      "Filename: /Users/bordieremma/Documents/Magistere_3/STAGE_CFHT/Data/Herschel_pipeline/1342226189/level2/HPSSPECB/herschel.pacs.signal.PacsCentralSpectrum/hpacs1342226189_20hpsspecbs_00_1469490352729.fits\n",
      "No.    Name      Ver    Type      Cards   Dimensions   Format\n",
      "  0  PRIMARY       1 PrimaryHDU     346   ()      \n",
      "  1  spectra       1 BinTableHDU    116   1732R x 11C   [1J, 1D, 3A, 1D, 1D, 1D, 1D, 1D, 1D, 1D, 1D]   \n",
      "  2  History       1 ImageHDU        23   ()      \n",
      "  3  HistoryScript    1 BinTableHDU     39   98R x 1C   [224A]   \n",
      "  4  HistoryTasks    1 BinTableHDU     46   62R x 4C   [1K, 31A, 1K, 9A]   \n",
      "  5  HistoryParameters    1 BinTableHDU     74   608R x 10C   [1K, 23A, 13A, 20A, 1L, 1K, 1L, 58A, 11A, 42A]   \n"
     ]
    }
   ],
   "source": [
    "DataB.info()"
   ]
  },
  {
   "cell_type": "code",
   "execution_count": 424,
   "metadata": {},
   "outputs": [],
   "source": [
    "Header=Data1[0].header\n",
    "Flux1=Data1[1].data\n",
    "Wvl1=Data1[2].data\n",
    "Flux2=Data2[1].data\n",
    "Wvl2=Data2[2].data"
   ]
  },
  {
   "cell_type": "code",
   "execution_count": 425,
   "metadata": {},
   "outputs": [
    {
     "data": {
      "text/plain": [
       "SIMPLE  =                    T / Java FITS: Tue Jul 26 00:01:40 CEST 2016       \n",
       "BITPIX  =                   32                                                  \n",
       "NAXIS   =                    0 / Dimensionality                                 \n",
       "EXTEND  =                    T / May contain datasets                           \n",
       "TIMESYS = 'UTC     '           / All dates are in UTC time                      \n",
       "LONGSTRN= 'OGIP 1.0'           / The OGIP long string convention may be used.   \n",
       "COMMENT This FITS file may contain long string keyword values that are          \n",
       "COMMENT continued over multiple keywords.  This convention uses the  '&'        \n",
       "COMMENT character at the end of a string which is then continued                \n",
       "COMMENT on subsequent keywords whose name = 'CONTINUE'.                         \n",
       "          ---------------Herschel FITS Data Generator---------------            \n",
       "          This product is generated by Herschel software.                       \n",
       "HCSS____=                    5 / HCSS Fits Product Version                      \n",
       "          -------------- Herschel Structure Data--------------------            \n",
       "          Following fields are private to the structure of the                  \n",
       "          Java object this HDU is representing.                                 \n",
       "CLASS___= 'herschel.pacs.signal.PacsCube' / java representation                 \n",
       "INFO____= 'Spectroscopy blue 3d cube product'                                   \n",
       "          -------------- Herschel Parameter Data--------------------            \n",
       "          All actual parameter names are converted to FITS compliant            \n",
       "          conventions. Note that the HIERARCH comments contain the              \n",
       "          appropriate key mapping                                               \n",
       "TYPE    = 'HPS3DBS '           / Product Type Identification                    \n",
       "CREATOR = 'SPG v14.2.0'        / Generator of this product                      \n",
       "DATE    = '2016-07-25T23:36:08.800000' / Creation date of this product          \n",
       "DESC    = 'Spectroscopy blue 3d cube product' / Name of this product            \n",
       "INSTRUME= 'PACS    '           / Instrument attached to this product            \n",
       "MODELNAM= 'FLIGHT  '           / Model name attached to this product            \n",
       "DATE-OBS= '2011-08-14T13:21:53.141800' / Start date of the observation          \n",
       "DATE_OBS= '2011-08-14T13:21:53.141800' / Start date of the observation          \n",
       "DATE-END= '2011-08-14T13:49:27.141876' / End date of the observation            \n",
       "FORMATV = '1.0     '           / Version of product format                      \n",
       "PRODNOTE= 'PACS spectrometer pipeline Level 2.0 product' / Product notes        \n",
       "DETROW  =                    5 / [] Number of detector rows                     \n",
       "DETCOL  =                    5 / [] Number of detector columns                  \n",
       "CAMNAME = 'Blue Spectrometer'  / Name of the Camera                             \n",
       "RELTMOFF=                    0 / [] Offset btwn PACS internal CRDC counter an&  \n",
       "COMMENT d on-board time                                                         \n",
       "APID    =                 1156 / [] Application Programme Identifier            \n",
       "SUBTYPE =                  4.0 / [] HSPOT: Product subtype: 1:BolRed 2:BolBlu&  \n",
       "COMMENT e 3:SpecRed 4:SpecBlue                                                  \n",
       "COMPVERS=                 13.0 / [] PACS compression algorithm version          \n",
       "ALGONUM =                 17.0 / [] PACS compression algorithm number           \n",
       "ALGORITH= 'Spectroscopy - Least Square Fit - without glitch detection&'         \n",
       "CONTINUE  '' / &                                                                \n",
       "COMMENT PACS compression algorithm description                                  \n",
       "COMPNUM =                 16.0 / [] PACS compression algorithm number           \n",
       "COMPMODE= 'Spectroscopy Default Mode' / PACS compression algorithm model        \n",
       "DXID    =               4001.0 / [] HSPOT: Detector selection table identifier  \n",
       "FAILSPUR=                    0 / [] no. of red SPU buffers not decompressed d&  \n",
       "COMMENT ue to corrupt data                                                      \n",
       "FAILSPUB=                    0 / [] no. of blue SPU buffers not decompressed &  \n",
       "COMMENT due to corrupt data                                                     \n",
       "LEVEL   = '20      '           / Product level                                  \n",
       "OBS_ID  =           1342226189 / [] Observation Identifier                      \n",
       "OBSTYPE =                    0 / [] Observation type                            \n",
       "OBSCNT  =                    0 / [] Observation counter                         \n",
       "CAMERA  = 'SPECBLUE'           / Camera                                         \n",
       "ODNUMBER=                  823 / [] Operational Day Number count                \n",
       "CUSMODE = 'PacsRangeSpec'      / CUS observation mode                           \n",
       "INSTMODE= 'PacsRangeSpec'      / Instrument Mode                                \n",
       "OBS_MODE= 'Pointed '           / Observation mode name                          \n",
       "PROCMODE= 'BULK_REPROCESSING'  / SPG pipeline processing mode selected          \n",
       "ONOFFPOS= 'offSelector'        / Entire product: ON-src, OFF-src, Undefined     \n",
       "OBSERVER= 'nflagey '           / Observer name                                  \n",
       "PROPOSAL= 'OT1_nflagey_1'      / Proposal name                                  \n",
       "POINTMOD= 'Nodding '           / Pointing mode                                  \n",
       "SLEWTIME= '2011-08-14T13:20:15.000000' / Scheduled start time of the slew       \n",
       "ORIGIN  = 'Herschel Science Centre' / Site that created the product             \n",
       "AOR     = 'PacsSedB2A - MGE_4384' / AOR Label as entered in HSpot               \n",
       "AOT     = 'Range Spectroscopy' / AOT Identifier                                 \n",
       "EQUINOX =               2000.0 / [] Equinox of celestial coordinate system      \n",
       "MISSIONC= 'MC_H88ASTR_P67ASTR_S63ASTR_RP' / Mission configuration               \n",
       "OBJECT  = 'MGE_4384'           / Target name                                    \n",
       "RADESYS = 'ICRS    '           / Coordinate reference frame for the RA and DEC  \n",
       "PMRA    =                  0.0 / [arcsec a-1] Target's proper motion, RA        \n",
       "PMDEC   =                  0.0 / [arcsec a-1] Target's proper motion, Dec       \n",
       "RA_NOM  =              176.074 / [deg] Requested Right Ascension of pointing    \n",
       "DEC_NOM =             -62.7555 / [deg] Requested Declination of pointing        \n",
       "RA      =   176.07448076128557 / [deg] Average Right Ascension of the centre &  \n",
       "COMMENT of this image/cube                                                      \n",
       "DEC     =  -62.755269786029245 / [deg] Average Declination of the centre of t&  \n",
       "COMMENT his image/cube                                                          \n",
       "POSANGLE=   328.29873845893746 / [deg] Position Angle of pointing               \n",
       "TELESCOP= 'Herschel Space Observatory' / Name of telescope                      \n",
       "VELDEF  = 'RADI-LSR'           / The velocity definition and frame              \n",
       "VFRAME  =   -25.61351911567857 / [km s-1] Spacecraft velocity along the l-of-&  \n",
       "COMMENT s of the telescope wrt the LSR: v / c = (lambda_rest - lambda) / lambda&\n",
       "COMMENT _rest                                                                   \n",
       "CALVERS = 'PACS_CAL_77_0'      / Version of calibration tree used               \n",
       "OBSREQID=              1765929 / [] Observation Request Identifier              \n",
       "OBREQVER=                    0 / [] Observation Request Version                 \n",
       "TITLE   = 'PacsSedB2A - MGE_4384' / Title                                       \n",
       "TARGET  = 'MGE_4384'           / Target                                         \n",
       "TARGTYPE= 'Fixed Single'       / Target Type                                    \n",
       "SUB_INST= 'P_SPEC  '           / Sub Instrument                                 \n",
       "CUS_MODE= 'PACS Spectroscopy. Chopped. Range. Pointed.&'                        \n",
       "CONTINUE  '' / &                                                                \n",
       "COMMENT Observing mode summary                                                  \n",
       "OVERHEAD=                  180 / [] Overhead                                    \n",
       "TSLEWMIN=                  128 / [] Minimum slew time                           \n",
       "CHOPNOD =                    T / HSPOT: True for chop/nod, else False           \n",
       "UNCHOPD =                    F / unchopped range scan observation?              \n",
       "RASREF  =                    T / raster ref. frame aligned w: (T) instrument &  \n",
       "COMMENT y-z, (F) sky                                                            \n",
       "CHPAVFRM=                  0.0 / [deg] HSPOT: chopper avoidance angle from      \n",
       "CHPAVTO =                  0.0 / [deg] HSPOT: chopper avoidance angle to        \n",
       "DECOFF  =                  0.0 / [deg] Actual declination of the off position   \n",
       "RAOFF   =                  0.0 / [deg] RA of the off position for unchopped     \n",
       "DPNAIFID=                    0 / [] SSO NAIF identifier (DEPRECATED: use naif&  \n",
       "COMMENT Id instead)                                                             \n",
       "NODCYREP=                    1 / [] HSPOT: number of ABBA nod cycle repetitio&  \n",
       "COMMENT ns                                                                      \n",
       "BLUEWAVE= '[55.0]  '           / HSPOT: blue limits for all ranges              \n",
       "WAVEDENS= 'nyquist '           / HSPOT: wavelength sampling (nyquist/high)      \n",
       "LCONTFLX= '[111.11]'           / HSPOT: estimated continuum fluxes              \n",
       "LINELFX = '[111.0] '           / HSPOT: estimated line fluxes                   \n",
       "LINEWID = '[400.0] '           / HSPOT: estimated line widths                   \n",
       "META_0  = 'Undefined'          / ???                                            \n",
       "RANGEID = '[\"My Range\"]'       / HSPOT: wavelength range identifiers            \n",
       "RANGDESC= '[{\"SED B2A\",102.0,146.0,3,0.0,30000.0,0.0,\"fluxWatt\",\"kms\",70.0}]&'  \n",
       "CONTINUE  '' / &                                                                \n",
       "COMMENT HSPOT: description of lines                                             \n",
       "REDWAVE = '[60.0]  '           / HSPOT: red limits for all ranges               \n",
       "REFWAVE = '[60.0]  '           / HSPOT: reference wavelengths for all ranges    \n",
       "RANGEREP= '[1]     '           / HSPOT: repetition factors for all ranges       \n",
       "SOURCE  = 'point   '           / pointing mode: point: single, large: mapping   \n",
       "CHPTHROW= 'small&  '                                                            \n",
       "CONTINUE  '' / &                                                                \n",
       "COMMENT HSPOT: chopper throw: large(6'), medium(3'), small (1')                 \n",
       "WID_UNIT= '[\"kms\"] '           / HSPOT: units for the estimated line widths     \n",
       "ODSTART = '2011-08-14T11:18:25.000000' / Operational Day start time             \n",
       "MISSCONV= 'FM_0.80 '           / Mission Configuration version                  \n",
       "INSTCONF= 'FM_0.80 '           / Instrument Configuration                       \n",
       "CHOPTHRO= 'small   '           / chopper throw (large / medium / small)         \n",
       "NNODCYC =                    1 / [] Number of nod cycle repetitions             \n",
       "OBSSTART= 'Sun Aug 14 15:23:16 CEST 2011&'                                      \n",
       "CONTINUE  '' / &                                                                \n",
       "COMMENT HSPOT: start time of the observation                                    \n",
       "TELAPSE =               3342.0 / [s] HSPOT: Total duration of the observation   \n",
       "NUMLINES=                    1 / [] Number of spectral lines                    \n",
       "LINE01  = '102.0 - 146.0 micron, 3 repetition(s), ID: SED B2A&'                 \n",
       "CONTINUE  '' / &                                                                \n",
       "COMMENT spectral line/range: wavelength, reps, id                               \n",
       "SAAMEAN =    81.21224070035625 / [deg] averaged Solar Aspect Angle              \n",
       "SAARMS  =  0.18316112715762864 / [deg] standard deviation of the Solar Aspect&  \n",
       "COMMENT ~Angle                                                                  \n",
       "SLICENUM=                    0 / [] Slice number                                \n",
       "ISINTERL=                    T / Startracker mode                               \n",
       "HERVELAP=                    T / Herschel Velocity applied to wavelength        \n",
       "AOTMODE = 'Chop/Nod, pointed'  / SLICE_INFO: observation mode description       \n",
       "RASID   = '0 0     '           / SLICE_INFO: raster column, raster line         \n",
       "ISOFFPOS=                    F / SLICE_INFO: off position or not                \n",
       "REPEATS =                    1 / [] SLICE_INFO: repetition                      \n",
       "BAND    = 'B2A     '           / SLICE_INFO: spectral band (R1, B2A|B, B3A)     \n",
       "ORDER   =                    2 / [] SLICE_INFO: filter order                    \n",
       "OBCP    =                   35 / [] SLICE_INFO: Obcp                            \n",
       "FILTER  =                    0 / [] SLICE_INFO: Filter                          \n",
       "CAPACIT =                 0.14 / [pF] SLICE_INFO: integration capacitance       \n",
       "GRATSTEP= 0.003840471178756477 / [] SLICE_INFO: grating step                    \n",
       "SLICEKEY=                    F / PACS Slice Info keywords updated               \n",
       "CALBLKID=                    F / SLICE_INFO: calibration block indicator        \n",
       "LINEINFO= 'range Unknown, min.: 50.75124823605119 max.: 73.25731211510002 micr&'\n",
       "CONTINUE  'on, lineID: 2&'                                                      \n",
       "CONTINUE  '' / &                                                                \n",
       "COMMENT SLICE_INFO: spectral line: name, wavelength, line id                    \n",
       "LINEID  =                    2 / [] SLICE_INFO: line ID                         \n",
       "MIN_WAVE=    50.75124823605119 / [micrometer] SLICE_INFO: minimum wavelength    \n",
       "MAX_WAVE=    73.25731211510002 / [micrometer] SLICE_INFO: maximum wavelength    \n",
       "MEANWAVE=     62.0042801755756 / [micrometer] SLICE_INFO: mean or line wavele&  \n",
       "COMMENT ngth                                                                    \n",
       "ISPRIME =                    F / SLICE_INFO: is in prime channel?               \n",
       "ISINLEAK= 'no      '           / SLICE_INFO: any data inside spectral leak?     \n",
       "NODPOS  = 'B       '           / SLICE_INFO: nodding position A, B, undef       \n",
       "NODCYDEN=                    1 / [] SLICE_INFO: nodding cycle number            \n",
       "IBSVALPX=   62.247559044449524 / [] Usable pixels for the Blue detector         \n",
       "IBSSCGLT=    5.898974502282177 / [] Percentage of blue spectrometer deglitche&  \n",
       "COMMENT d pixels in science blocks above threshold                              \n",
       "IBSSCSAT=    1.016182709651E-4 / [] Percentage of blue spectrometer saturated&  \n",
       "COMMENT ~pixels in science blocks                                               \n",
       "ONOFFSRC=                    1 / [] SLICE_INFO: 0 not science;1 on-src;2 off-&  \n",
       "COMMENT src                                                                     \n",
       "EXFLXCOR=                    T / extended source correction applied             \n",
       "HIERARCH  key.TYPE='type'                                                       \n",
       "HIERARCH  key.CREATOR='creator'                                                 \n",
       "HIERARCH  key.DATE='creationDate'                                               \n",
       "HIERARCH  key.DESC='description'                                                \n",
       "HIERARCH  key.INSTRUME='instrument'                                             \n",
       "HIERARCH  key.MODELNAM='modelName'                                              \n",
       "HIERARCH  key.DATE-OBS='startDate'                                              \n",
       "HIERARCH  key.DATE-END='endDate'                                                \n",
       "HIERARCH  key.FORMATV='formatVersion'                                           \n",
       "HIERARCH  key.PRODNOTE='productNotes'                                           \n",
       "HIERARCH  key.DETROW='detRow'                                                   \n",
       "HIERARCH  key.DETCOL='detCol'                                                   \n",
       "HIERARCH  key.CAMNAME='camName'                                                 \n",
       "HIERARCH  key.RELTMOFF='relTimeOffset'                                          \n",
       "HIERARCH  key.APID='apid'                                                       \n",
       "HIERARCH  key.SUBTYPE='subType'                                                 \n",
       "HIERARCH  key.COMPVERS='compVersion'                                            \n",
       "HIERARCH  key.ALGONUM='algoNumber'                                              \n",
       "HIERARCH  key.ALGORITH='algorithm'                                              \n",
       "HIERARCH  key.COMPNUM='compNumber'                                              \n",
       "HIERARCH  key.COMPMODE='compMode'                                               \n",
       "HIERARCH  key.DXID='dxid'                                                       \n",
       "HIERARCH  key.FAILSPUR='spec_red_FailedSPUBuffer'                               \n",
       "HIERARCH  key.FAILSPUB='spec_blue_FailedSPUBuffer'                              \n",
       "HIERARCH  key.LEVEL='level'                                                     \n",
       "HIERARCH  key.OBS_ID='obsid'                                                    \n",
       "HIERARCH  key.OBSTYPE='obsType'                                                 \n",
       "HIERARCH  key.OBSCNT='obsCount'                                                 \n",
       "HIERARCH  key.CAMERA='camera'                                                   \n",
       "HIERARCH  key.ODNUMBER='odNumber'                                               \n",
       "HIERARCH  key.CUSMODE='cusMode'                                                 \n",
       "HIERARCH  key.INSTMODE='instMode'                                               \n",
       "HIERARCH  key.OBS_MODE='obsMode'                                                \n",
       "HIERARCH  key.PROCMODE='processingMode'                                         \n",
       "HIERARCH  key.ONOFFPOS='OnOffPosition'                                          \n",
       "HIERARCH  key.OBSERVER='observer'                                               \n",
       "HIERARCH  key.PROPOSAL='proposal'                                               \n",
       "HIERARCH  key.POINTMOD='pointingMode'                                           \n",
       "HIERARCH  key.SLEWTIME='slewTime'                                               \n",
       "HIERARCH  key.ORIGIN='origin'                                                   \n",
       "HIERARCH  key.AOR='aorLabel'                                                    \n",
       "HIERARCH  key.AOT='aot'                                                         \n",
       "HIERARCH  key.EQUINOX='equinox'                                                 \n",
       "HIERARCH  key.MISSIONC='missionConfig'                                          \n",
       "HIERARCH  key.OBJECT='object'                                                   \n",
       "HIERARCH  key.RADESYS='raDeSys'                                                 \n",
       "HIERARCH  key.PMRA='pmRA'                                                       \n",
       "HIERARCH  key.PMDEC='pmDEC'                                                     \n",
       "HIERARCH  key.RA_NOM='raNominal'                                                \n",
       "HIERARCH  key.DEC_NOM='decNominal'                                              \n",
       "HIERARCH  key.RA='ra'                                                           \n",
       "HIERARCH  key.DEC='dec'                                                         \n",
       "HIERARCH  key.POSANGLE='posAngle'                                               \n",
       "HIERARCH  key.TELESCOP='telescope'                                              \n",
       "HIERARCH  key.VELDEF='velocityDefinition'                                       \n",
       "HIERARCH  key.VFRAME='radialVelocity'                                           \n",
       "HIERARCH  key.CALVERS='calVersion'                                              \n",
       "HIERARCH  key.OBSREQID='obsRequestId'                                           \n",
       "HIERARCH  key.OBREQVER='obsRequestVersion'                                      \n",
       "HIERARCH  key.TITLE='title'                                                     \n",
       "HIERARCH  key.TARGET='target'                                                   \n",
       "HIERARCH  key.TARGTYPE='targetType'                                             \n",
       "HIERARCH  key.SUB_INST='subinstrument'                                          \n",
       "HIERARCH  key.CUS_MODE='observingMode'                                          \n",
       "HIERARCH  key.OVERHEAD='overhead'                                               \n",
       "HIERARCH  key.TSLEWMIN='tslewmin'                                               \n",
       "HIERARCH  key.CHOPNOD='chopNod'                                                 \n",
       "HIERARCH  key.UNCHOPD='gratScan'                                                \n",
       "HIERARCH  key.RASREF='mapRasterAngleRefFrame'                                   \n",
       "HIERARCH  key.CHPAVFRM='chopAvoidFrom'                                          \n",
       "HIERARCH  key.CHPAVTO='chopAvoidTo'                                             \n",
       "HIERARCH  key.DECOFF='decoff'                                                   \n",
       "HIERARCH  key.RAOFF='raoff'                                                     \n",
       "HIERARCH  key.DPNAIFID='naifid'                                                 \n",
       "HIERARCH  key.NODCYREP='userNODcycles'                                          \n",
       "HIERARCH  key.BLUEWAVE='bluWave'                                                \n",
       "HIERARCH  key.WAVEDENS='density'                                                \n",
       "HIERARCH  key.LCONTFLX='lcontFlux'                                              \n",
       "HIERARCH  key.LINELFX='lineFlux'                                                \n",
       "HIERARCH  key.LINEWID='lineWidth'                                               \n",
       "HIERARCH  key.META_0='offSelector'                                              \n",
       "HIERARCH  key.RANGEID='rangeId'                                                 \n",
       "HIERARCH  key.RANGDESC='rangeSPOT'                                              \n",
       "HIERARCH  key.REDWAVE='redWave'                                                 \n",
       "HIERARCH  key.REFWAVE='refWave'                                                 \n",
       "HIERARCH  key.RANGEREP='repeatRange'                                            \n",
       "HIERARCH  key.SOURCE='source'                                                   \n",
       "HIERARCH  key.CHPTHROW='throw'                                                  \n",
       "HIERARCH  key.WID_UNIT='widthUnit'                                              \n",
       "HIERARCH  key.ODSTART='odStartTime'                                             \n",
       "HIERARCH  key.MISSCONV='missionConfiguration'                                   \n",
       "HIERARCH  key.INSTCONF='instrumentConfiguration'                                \n",
       "HIERARCH  key.CHOPTHRO='chopperThrow'                                           \n",
       "HIERARCH  key.NNODCYC='numNodCyc'                                               \n",
       "HIERARCH  key.OBSSTART='StartingTime'                                           \n",
       "HIERARCH  key.TELAPSE='duration'                                                \n",
       "HIERARCH  key.NUMLINES='numSpecLines'                                           \n",
       "HIERARCH  key.LINE01='Line1'                                                    \n",
       "HIERARCH  key.SAAMEAN='solarAspectAngleMean'                                    \n",
       "HIERARCH  key.SAARMS='solarAspectAngleRms'                                      \n",
       "HIERARCH  key.SLICENUM='sliceNumber'                                            \n",
       "HIERARCH  key.ISINTERL='isInterlaced'                                           \n",
       "HIERARCH  key.HERVELAP='herschelVelocityApplied'                                \n",
       "HIERARCH  key.AOTMODE='aotMode'                                                 \n",
       "HIERARCH  key.RASID='rasterId'                                                  \n",
       "HIERARCH  key.ISOFFPOS='isOffPosition'                                          \n",
       "HIERARCH  key.REPEATS='repetition'                                              \n",
       "HIERARCH  key.BAND='band'                                                       \n",
       "HIERARCH  key.ORDER='order'                                                     \n",
       "HIERARCH  key.OBCP='obcp'                                                       \n",
       "HIERARCH  key.FILTER='filter'                                                   \n",
       "HIERARCH  key.CAPACIT='capacitance'                                             \n",
       "HIERARCH  key.GRATSTEP='gratingStep'                                            \n",
       "HIERARCH  key.SLICEKEY='pacsSliceInfoUpdated'                                   \n",
       "HIERARCH  key.CALBLKID='calBlock'                                               \n",
       "HIERARCH  key.LINEINFO='lineDescription'                                        \n",
       "HIERARCH  key.LINEID='lineId'                                                   \n",
       "HIERARCH  key.MIN_WAVE='minWavelength'                                          \n",
       "HIERARCH  key.MAX_WAVE='maxWavelength'                                          \n",
       "HIERARCH  key.MEANWAVE='meanWavelength'                                         \n",
       "HIERARCH  key.ISPRIME='isPrime'                                                 \n",
       "HIERARCH  key.ISINLEAK='isInLeak'                                               \n",
       "HIERARCH  key.NODPOS='nodPosition'                                              \n",
       "HIERARCH  key.NODCYDEN='nodCycleNum'                                            \n",
       "HIERARCH  key.IBSVALPX='infoSpecBlueNotFlaggedBad'                              \n",
       "HIERARCH  key.IBSSCGLT='infoSpecBlueGlitchRate'                                 \n",
       "HIERARCH  key.IBSSCSAT='infoSpecBlueSaturationRate'                             \n",
       "HIERARCH  key.ONOFFSRC='onOffSource'                                            \n",
       "HIERARCH  key.EXFLXCOR='extendedSourceCorrected'                                \n",
       "          -----------------Dataset Children-------------------------            \n",
       "          Below you will find all HDU locations that are children of            \n",
       "          this composite dataset.                                               \n",
       "DSETS___=                    8 / Number of datasets                             \n",
       "DS_0    =                    1 / HDU of Child Dataset                           \n",
       "DS_1    =                    2 / HDU of Child Dataset                           \n",
       "DS_2    =                    3 / HDU of Child Dataset                           \n",
       "DS_3    =                    4 / HDU of Child Dataset                           \n",
       "DS_4    =                    5 / HDU of Child Dataset                           \n",
       "DS_5    =                   18 / HDU of Child Dataset                           \n",
       "DS_6    =                   19 / HDU of Child Dataset                           \n",
       "DS_7    =                   20 / HDU of Child Dataset                           "
      ]
     },
     "execution_count": 425,
     "metadata": {},
     "output_type": "execute_result"
    }
   ],
   "source": [
    "Header"
   ]
  },
  {
   "cell_type": "code",
   "execution_count": 426,
   "metadata": {},
   "outputs": [
    {
     "data": {
      "image/png": "[encoded data removed]",
      "text/plain": [
       "<matplotlib.figure.Figure at 0x1496e6a20>"
      ]
     },
     "metadata": {},
     "output_type": "display_data"
    },
    {
     "data": {
      "image/png": "[encoded data removed]",
      "text/plain": [
       "<matplotlib.figure.Figure at 0x149c67b38>"
      ]
     },
     "metadata": {},
     "output_type": "display_data"
    }
   ],
   "source": [
    "plt.figure()\n",
    "plt.imshow(Flux1[1], origin='lower')\n",
    "plt.colorbar()\n",
    "plt.title('Bleu')\n",
    "plt.figure()\n",
    "plt.imshow(Flux2[1], origin='lower')\n",
    "plt.colorbar()\n",
    "plt.title('Rouge')\n",
    "plt.show()\n"
   ]
  },
  {
   "cell_type": "code",
   "execution_count": 400,
   "metadata": {},
   "outputs": [
    {
     "data": {
      "text/plain": [
       "(5, 5)"
      ]
     },
     "execution_count": 400,
     "metadata": {},
     "output_type": "execute_result"
    }
   ],
   "source": [
    "np.shape(Flux[:,2,2])\n",
    "np.shape(Flux[190000])\n"
   ]
  },
  {
   "cell_type": "code",
   "execution_count": 401,
   "metadata": {},
   "outputs": [
    {
     "data": {
      "text/plain": [
       "array([  135.8982815 ,  -142.80569244, -2776.66725909, ...,\n",
       "         -83.31078765,  -101.08538236,   -70.99780909])"
      ]
     },
     "execution_count": 401,
     "metadata": {},
     "output_type": "execute_result"
    }
   ],
   "source": [
    "Flux[:,2,2]"
   ]
  },
  {
   "cell_type": "code",
   "execution_count": 402,
   "metadata": {},
   "outputs": [
    {
     "name": "stdout",
     "output_type": "stream",
     "text": [
      "(array([], dtype=int64), array([], dtype=int64), array([], dtype=int64))\n"
     ]
    }
   ],
   "source": [
    "print(np.where(np.isnan(Flux)))"
   ]
  },
  {
   "cell_type": "code",
   "execution_count": 429,
   "metadata": {},
   "outputs": [
    {
     "data": {
      "image/png": "[encoded data removed]",
      "text/plain": [
       "<matplotlib.figure.Figure at 0x130c4edd8>"
      ]
     },
     "metadata": {},
     "output_type": "display_data"
    },
    {
     "data": {
      "image/png": "[encoded data removed]",
      "text/plain": [
       "<matplotlib.figure.Figure at 0x149c48f60>"
      ]
     },
     "metadata": {},
     "output_type": "display_data"
    }
   ],
   "source": [
    "plt.figure()\n",
    "plt.plot(Wvl1[:,2,2],Flux1[:,2,2])\n",
    "plt.title('Bleu')\n",
    "#plt.plot(Wvl2[:,2,2],Flux2[:,2,2])\n",
    "#plt.ylim(-0.0005e7, 0.0005e7)\n",
    "plt.figure()\n",
    "plt.plot(Wvl2[:,2,2],Flux2[:,2,2])\n",
    "plt.title('Rouge')\n",
    "plt.show()"
   ]
  },
  {
   "cell_type": "code",
   "execution_count": 431,
   "metadata": {},
   "outputs": [],
   "source": [
    "header_spec=DataB[1].header"
   ]
  },
  {
   "cell_type": "code",
   "execution_count": 432,
   "metadata": {},
   "outputs": [
    {
     "data": {
      "text/plain": [
       "XTENSION= 'BINTABLE'           / Java FITS: Tue Jul 26 00:01:40 CEST 2016       \n",
       "BITPIX  =                    8                                                  \n",
       "NAXIS   =                    2 / Dimensionality                                 \n",
       "NAXIS1  =                   79                                                  \n",
       "NAXIS2  =                 1732                                                  \n",
       "PCOUNT  =                    0                                                  \n",
       "GCOUNT  =                    1                                                  \n",
       "TFIELDS =                   11                                                  \n",
       "LONGSTRN= 'OGIP 1.0'           / The OGIP long string convention may be used.   \n",
       "COMMENT This FITS file may contain long string keyword values that are          \n",
       "COMMENT continued over multiple keywords.  This convention uses the  '&'        \n",
       "COMMENT character at the end of a string which is then continued                \n",
       "COMMENT on subsequent keywords whose name = 'CONTINUE'.                         \n",
       "          -------------- Herschel Structure Data--------------------            \n",
       "          Following fields are private to the structure of the                  \n",
       "          Java object this HDU is representing.                                 \n",
       "EXTNAME = 'spectra '           / name of this HDU                               \n",
       "CLASS___= 'herschel.ia.dataset.TableDataset' / java representation              \n",
       "INFO____= 'Table with point-source spectra'                                     \n",
       "          -------------- Herschel Parameter Data--------------------            \n",
       "          All actual parameter names are converted to FITS compliant            \n",
       "          conventions. Note that the HIERARCH comments contain the              \n",
       "          appropriate key mapping                                               \n",
       "OBIDS000=           1342226189 / [] SEGMENT 0: Observation Identifier           \n",
       "PROPS000= 'OT1_nflagey_1'      / SEGMENT 0: Proposal name                       \n",
       "LNDSC000= 'range Unknown, min.: 50.75124823605119 max.: 73.25731211510002 micr&'\n",
       "CONTINUE  'on, lineID: 2&'                                                      \n",
       "CONTINUE  '' / &                                                                \n",
       "COMMENT SEGMENT 0: SLICE_INFO: spectral line: name, wavelength, line id         \n",
       "STRDT000= '2011-08-14T13:21:53.141800&'                                         \n",
       "CONTINUE  '' / &                                                                \n",
       "COMMENT SEGMENT 0: Start date of the observation                                \n",
       "ENDDT000= '2011-08-14T13:49:27.141876' / SEGMENT 0: End date of the observation \n",
       "SPRA000 =   176.07465002043534 / [] SEGMENT 0: Right Ascension of the central&  \n",
       "COMMENT ~spaxel                                                                 \n",
       "SPDEC000=   -62.75538769838734 / [] SEGMENT 0: Declination of the central spa&  \n",
       "COMMENT xel                                                                     \n",
       "RDVEL000=   -25.61351911567857 / [km s-1] SEGMENT 0: Spacecraft velocity alon&  \n",
       "COMMENT g the l-of-s of the telescope wrt the LSR: v / c = (lambda_rest - lambd&\n",
       "COMMENT a) / lambda_rest                                                        \n",
       "HIERARCH  key.OBIDS000='obsidSeg000'                                            \n",
       "HIERARCH  key.PROPS000='proposalSeg000'                                         \n",
       "HIERARCH  key.LNDSC000='lineDescriptionSeg000'                                  \n",
       "HIERARCH  key.STRDT000='startDateSeg000'                                        \n",
       "HIERARCH  key.ENDDT000='endDateSeg000'                                          \n",
       "HIERARCH  key.SPRA000='spaxelRaSeg000'                                          \n",
       "HIERARCH  key.SPDEC000='spaxelDecSeg000'                                        \n",
       "HIERARCH  key.RDVEL000='radialVelocitySeg000'                                   \n",
       "          ---------------Herschel Column Information----------------            \n",
       "          Below follow additional fields to re-create the table                 \n",
       "          columns into herschel.ia.dataset.Column objects                       \n",
       "          * TTYPExxx - Column name                                              \n",
       "          * TCOLUxxx - Java Column container                                    \n",
       "          * TCLASxxx - Java ArrayData container                                 \n",
       "          * TFORMxxx - FITS column type                                         \n",
       "          * TDIMxxx  - FITS column dimensions                                   \n",
       "          * TUNITxxx - herschel.share.unit.Unit                                 \n",
       "TFORM1  = '1J      '                                                            \n",
       "TFORM2  = '1D      '                                                            \n",
       "TFORM3  = '3A      '                                                            \n",
       "TDIM3   = '(3)     '                                                            \n",
       "TFORM4  = '1D      '                                                            \n",
       "TFORM5  = '1D      '                                                            \n",
       "TFORM6  = '1D      '                                                            \n",
       "TFORM7  = '1D      '                                                            \n",
       "TFORM8  = '1D      '                                                            \n",
       "TFORM9  = '1D      '                                                            \n",
       "TFORM10 = '1D      '                                                            \n",
       "TFORM11 = '1D      '                                                            \n",
       "TTYPE1  = 'segment '           / Segment in concatenated spectra                \n",
       "TCOLU1  = 'herschel.ia.dataset.Column'                                          \n",
       "TCLAS1  = 'herschel.ia.numeric.Int1d'                                           \n",
       "TTYPE2  = 'wave    '           / Wavelength                                     \n",
       "TCOLU2  = 'herschel.ia.dataset.Column'                                          \n",
       "TCLAS2  = 'herschel.ia.numeric.Double1d'                                        \n",
       "TUNIT2  = 'um      '           / herschel.share.unit.Unit                       \n",
       "TTYPE3  = 'band    '           / Spectral band                                  \n",
       "TCOLU3  = 'herschel.ia.dataset.Column'                                          \n",
       "TCLAS3  = 'herschel.ia.numeric.String1d'                                        \n",
       "TTYPE4  = 'centralFlux'        / Flux from the central spaxel                   \n",
       "TCOLU4  = 'herschel.ia.dataset.Column'                                          \n",
       "TCLAS4  = 'herschel.ia.numeric.Double1d'                                        \n",
       "TUNIT4  = 'Jy/pixel'           / herschel.share.unit.Unit                       \n",
       "TTYPE5  = 'centralError'       / Error in flux from the central spaxel          \n",
       "TCOLU5  = 'herschel.ia.dataset.Column'                                          \n",
       "TCLAS5  = 'herschel.ia.numeric.Double1d'                                        \n",
       "TUNIT5  = 'Jy/pixel'           / herschel.share.unit.Unit                       \n",
       "TTYPE6  = 'pointSourceFlux&'                                                    \n",
       "CONTINUE  '' / &                                                                \n",
       "COMMENT Flux from the central spaxel, point source calibrated                   \n",
       "TCOLU6  = 'herschel.ia.dataset.Column'                                          \n",
       "TCLAS6  = 'herschel.ia.numeric.Double1d'                                        \n",
       "TUNIT6  = 'Jy      '           / herschel.share.unit.Unit                       \n",
       "TTYPE7  = 'pointSourceError&'                                                   \n",
       "CONTINUE  '' / &                                                                \n",
       "COMMENT Error in flux from the central spaxel, point source calibrated          \n",
       "TCOLU7  = 'herschel.ia.dataset.Column'                                          \n",
       "TCLAS7  = 'herschel.ia.numeric.Double1d'                                        \n",
       "TUNIT7  = 'Jy      '           / herschel.share.unit.Unit                       \n",
       "TTYPE8  = 'pointSourceScaledFlux&'                                              \n",
       "CONTINUE  '' / &                                                                \n",
       "COMMENT Flux from the central spaxel, scaled to the point source calibrated spe&\n",
       "COMMENT ctrum taken from the central 3x3 spaxels                                \n",
       "TCOLU8  = 'herschel.ia.dataset.Column'                                          \n",
       "TCLAS8  = 'herschel.ia.numeric.Double1d'                                        \n",
       "TUNIT8  = 'Jy      '           / herschel.share.unit.Unit                       \n",
       "TTYPE9  = 'pointSourceScaledError&'                                             \n",
       "CONTINUE  '' / &                                                                \n",
       "COMMENT Error in flux from the central spaxel, scaled to the point source calib&\n",
       "COMMENT rated spectrum taken from the central 3x3 spaxels                       \n",
       "TCOLU9  = 'herschel.ia.dataset.Column'                                          \n",
       "TCLAS9  = 'herschel.ia.numeric.Double1d'                                        \n",
       "TUNIT9  = 'Jy      '           / herschel.share.unit.Unit                       \n",
       "TTYPE10 = 'pointSourceCen3x3Flux&'                                              \n",
       "CONTINUE  '' / &                                                                \n",
       "COMMENT Flux from the central 3x3 spaxels, point source calibrated              \n",
       "TCOLU10 = 'herschel.ia.dataset.Column'                                          \n",
       "TCLAS10 = 'herschel.ia.numeric.Double1d'                                        \n",
       "TUNIT10 = 'Jy      '           / herschel.share.unit.Unit                       \n",
       "TTYPE11 = 'pointSourceCen3x3Error&'                                             \n",
       "CONTINUE  '' / &                                                                \n",
       "COMMENT Error in flux from the central 3x3 spaxels, point source calibrated     \n",
       "TCOLU11 = 'herschel.ia.dataset.Column'                                          \n",
       "TUNIT11 = 'Jy      '           / herschel.share.unit.Unit                       \n",
       "TCLAS11 = 'herschel.ia.numeric.Double1d'                                        "
      ]
     },
     "execution_count": 432,
     "metadata": {},
     "output_type": "execute_result"
    }
   ],
   "source": [
    "header_spec"
   ]
  },
  {
   "cell_type": "code",
   "execution_count": 404,
   "metadata": {},
   "outputs": [
    {
     "data": {
      "text/plain": [
       "FITS_rec([(0, 55.00252146, 'B2A', -0.30214627, 0.64324405, -0.31982312, 0.88641797, -0.09847954, 0.27294471, -7.16207105, 2.80930993),\n",
       "          (0, 55.01227313, 'B2A', -0.17497823, 0.50183721, -0.18522518, 0.69159105, -0.05444045, 0.20326894,  0.29848797, 1.7341281 ),\n",
       "          (0, 55.0220248 , 'B2A',  0.06469561, 0.55221818,  0.06848795, 0.76106357,  0.01919003, 0.2132468 ,  4.53787595, 1.86732631),\n",
       "          ...,\n",
       "          (0, 71.9917678 , 'B2A', -0.27307458, 0.32941099, -0.30156201, 0.47241926, -0.19737539, 0.3092032 ,  1.98300345, 0.94875783),\n",
       "          (0, 72.0015861 , 'B2A',         nan,        nan, -0.30156425,        nan, -0.19175686,        nan,  1.57055058, 1.70219644),\n",
       "          (0, 72.0114044 , 'B2A',         nan,        nan, -0.30156627,        nan, -0.1861697 ,        nan,  1.57055001,        nan)],\n",
       "         dtype=(numpy.record, [('segment', '>i4'), ('wave', '>f8'), ('band', 'S3'), ('centralFlux', '>f8'), ('centralError', '>f8'), ('pointSourceFlux', '>f8'), ('pointSourceError', '>f8'), ('pointSourceScaledFlux', '>f8'), ('pointSourceScaledError', '>f8'), ('pointSourceCen3x3Flux', '>f8'), ('pointSourceCen3x3Error', '>f8')]))"
      ]
     },
     "execution_count": 404,
     "metadata": {},
     "output_type": "execute_result"
    }
   ],
   "source": [
    "DataB[1].data"
   ]
  },
  {
   "cell_type": "code",
   "execution_count": 406,
   "metadata": {},
   "outputs": [],
   "source": [
    "data_specB=DataB[1].data\n",
    "data_specR=DataR[1].data\n",
    "flux_specB=data_specB['centralFlux']\n",
    "flux_specR=data_specR['centralFlux']\n",
    "wvl_specB=data_specB['wave']\n",
    "wvl_specR=data_specR['wave']"
   ]
  },
  {
   "cell_type": "code",
   "execution_count": 407,
   "metadata": {},
   "outputs": [
    {
     "name": "stdout",
     "output_type": "stream",
     "text": [
      "(1732,)\n",
      "(1732,)\n"
     ]
    }
   ],
   "source": [
    "print(np.shape(flux_specB))\n",
    "print(np.shape(wvl_specB))"
   ]
  },
  {
   "cell_type": "code",
   "execution_count": 410,
   "metadata": {},
   "outputs": [
    {
     "name": "stdout",
     "output_type": "stream",
     "text": [
      "(array([1730, 1731]),)\n"
     ]
    }
   ],
   "source": [
    "print(np.where(np.isnan(flux_specB)))"
   ]
  },
  {
   "cell_type": "code",
   "execution_count": 415,
   "metadata": {},
   "outputs": [
    {
     "data": {
      "image/png": "[encoded data removed]",
      "text/plain": [
       "<matplotlib.figure.Figure at 0x11e937860>"
      ]
     },
     "metadata": {},
     "output_type": "display_data"
    }
   ],
   "source": [
    "plt.figure()\n",
    "plt.plot(wvl_specB,flux_specB,label=\"Bleu\")\n",
    "plt.plot(wvl_specR,flux_specR,label=\"Rouge\")\n",
    "plt.ylabel('Flux (Jy)')\n",
    "plt.xlabel('Wavelength (microns)')\n",
    "plt.legend()\n",
    "plt.show()\n",
    "#BINS=170\n",
    "#plt.figure()\n",
    "#plt.hist(flux_specB,BINS)\n",
    "#plt.show()"
   ]
  },
  {
   "cell_type": "markdown",
   "metadata": {},
   "source": [
    "Fichiers SPIRE \"Type2\" (TAG Orange). Essayer de comprendre le fichier FITS"
   ]
  },
  {
   "cell_type": "code",
   "execution_count": 343,
   "metadata": {},
   "outputs": [],
   "source": [
    "hdulist_apod=fits.open(direc1+'1342253970/level2/HR_spectrum_ext_apod/hspirespectrometer1342253970_a1060001_spgApod_HR_20sds_1461673628801.fits')\n",
    "hdulist_spec_HR=fits.open(direc1+'1342253970/level2/HR_spectrum_ext/hspirespectrometer1342253970_a1060001_spg_HR_20sds_1461673628333.fits')\n",
    "hdulist_point=fits.open(direc1+'1342253970/level2/HR_spectrum_point/hspirespectrometer1342253970_a1060001_spg_HR_20spss_1461673629282.fits')\n",
    "hdulist_apod_point=fits.open(direc1+'1342253970/level2/HR_spectrum_point_apod/hspirespectrometer1342253970_a1060001_spgApod_HR_20spss_1461673629678.fits')\n"
   ]
  },
  {
   "cell_type": "code",
   "execution_count": 344,
   "metadata": {},
   "outputs": [],
   "source": [
    "hdulist_spec_LR= fits.open(direc1+'1342253970/level2/LR_spectrum_ext/hspirespectrometer1342253970_a1060002_spg_LR_20sds_1461673630073.fits')"
   ]
  },
  {
   "cell_type": "code",
   "execution_count": 345,
   "metadata": {},
   "outputs": [
    {
     "name": "stdout",
     "output_type": "stream",
     "text": [
      "Filename: /Users/bordieremma/Documents/Magistere_3/STAGE_CFHT/Data/Herschel_pipeline/1342253970/level2/HR_spectrum_ext/hspirespectrometer1342253970_a1060001_spg_HR_20sds_1461673628333.fits\n",
      "No.    Name      Ver    Type      Cards   Dimensions   Format\n",
      "  0  PRIMARY       1 PrimaryHDU     408   ()      \n",
      "  1  0000          1 ImageHDU        88   ()      \n",
      "  2  SLWA1         1 BinTableHDU     90   1905R x 5C   [1D, 1D, 1D, 1J, 1J]   \n",
      "  3  SLWA2         1 BinTableHDU     90   1905R x 5C   [1D, 1D, 1D, 1J, 1J]   \n",
      "  4  SLWA3         1 BinTableHDU     90   1905R x 5C   [1D, 1D, 1D, 1J, 1J]   \n",
      "  5  SLWB1         1 BinTableHDU     90   1905R x 5C   [1D, 1D, 1D, 1J, 1J]   \n",
      "  6  SLWB2         1 BinTableHDU     90   1905R x 5C   [1D, 1D, 1D, 1J, 1J]   \n",
      "  7  SLWB3         1 BinTableHDU     90   1905R x 5C   [1D, 1D, 1D, 1J, 1J]   \n",
      "  8  SLWB4         1 BinTableHDU     90   1905R x 5C   [1D, 1D, 1D, 1J, 1J]   \n",
      "  9  SLWC1         1 BinTableHDU     90   1905R x 5C   [1D, 1D, 1D, 1J, 1J]   \n",
      " 10  SLWC2         1 BinTableHDU     90   1905R x 5C   [1D, 1D, 1D, 1J, 1J]   \n",
      " 11  SLWC3         1 BinTableHDU     90   1905R x 5C   [1D, 1D, 1D, 1J, 1J]   \n",
      " 12  SLWC4         1 BinTableHDU     90   1905R x 5C   [1D, 1D, 1D, 1J, 1J]   \n",
      " 13  SLWC5         1 BinTableHDU     90   1905R x 5C   [1D, 1D, 1D, 1J, 1J]   \n",
      " 14  SLWD1         1 BinTableHDU     90   1905R x 5C   [1D, 1D, 1D, 1J, 1J]   \n",
      " 15  SLWD2         1 BinTableHDU     90   1905R x 5C   [1D, 1D, 1D, 1J, 1J]   \n",
      " 16  SLWD3         1 BinTableHDU     90   1905R x 5C   [1D, 1D, 1D, 1J, 1J]   \n",
      " 17  SLWD4         1 BinTableHDU     90   1905R x 5C   [1D, 1D, 1D, 1J, 1J]   \n",
      " 18  SLWE1         1 BinTableHDU     90   1905R x 5C   [1D, 1D, 1D, 1J, 1J]   \n",
      " 19  SLWE2         1 BinTableHDU     90   1905R x 5C   [1D, 1D, 1D, 1J, 1J]   \n",
      " 20  SLWE3         1 BinTableHDU     90   1905R x 5C   [1D, 1D, 1D, 1J, 1J]   \n",
      " 21  SSWA1         1 BinTableHDU     90   2082R x 5C   [1D, 1D, 1D, 1J, 1J]   \n",
      " 22  SSWA2         1 BinTableHDU     90   2082R x 5C   [1D, 1D, 1D, 1J, 1J]   \n",
      " 23  SSWA3         1 BinTableHDU     90   2082R x 5C   [1D, 1D, 1D, 1J, 1J]   \n",
      " 24  SSWA4         1 BinTableHDU     90   2082R x 5C   [1D, 1D, 1D, 1J, 1J]   \n",
      " 25  SSWB1         1 BinTableHDU     90   2082R x 5C   [1D, 1D, 1D, 1J, 1J]   \n",
      " 26  SSWB2         1 BinTableHDU     90   2082R x 5C   [1D, 1D, 1D, 1J, 1J]   \n",
      " 27  SSWB3         1 BinTableHDU     90   2082R x 5C   [1D, 1D, 1D, 1J, 1J]   \n",
      " 28  SSWB4         1 BinTableHDU     90   2082R x 5C   [1D, 1D, 1D, 1J, 1J]   \n",
      " 29  SSWB5         1 BinTableHDU     90   2082R x 5C   [1D, 1D, 1D, 1J, 1J]   \n",
      " 30  SSWC1         1 BinTableHDU     90   2082R x 5C   [1D, 1D, 1D, 1J, 1J]   \n",
      " 31  SSWC2         1 BinTableHDU     90   2082R x 5C   [1D, 1D, 1D, 1J, 1J]   \n",
      " 32  SSWC3         1 BinTableHDU     90   2082R x 5C   [1D, 1D, 1D, 1J, 1J]   \n",
      " 33  SSWC4         1 BinTableHDU     90   2082R x 5C   [1D, 1D, 1D, 1J, 1J]   \n",
      " 34  SSWC5         1 BinTableHDU     90   2082R x 5C   [1D, 1D, 1D, 1J, 1J]   \n",
      " 35  SSWC6         1 BinTableHDU     90   2082R x 5C   [1D, 1D, 1D, 1J, 1J]   \n",
      " 36  SSWD1         1 BinTableHDU     90   2082R x 5C   [1D, 1D, 1D, 1J, 1J]   \n",
      " 37  SSWD2         1 BinTableHDU     90   2082R x 5C   [1D, 1D, 1D, 1J, 1J]   \n",
      " 38  SSWD3         1 BinTableHDU     90   2082R x 5C   [1D, 1D, 1D, 1J, 1J]   \n",
      " 39  SSWD4         1 BinTableHDU     90   2082R x 5C   [1D, 1D, 1D, 1J, 1J]   \n",
      " 40  SSWD6         1 BinTableHDU     90   2082R x 5C   [1D, 1D, 1D, 1J, 1J]   \n",
      " 41  SSWD7         1 BinTableHDU     90   2082R x 5C   [1D, 1D, 1D, 1J, 1J]   \n",
      " 42  SSWE1         1 BinTableHDU     90   2082R x 5C   [1D, 1D, 1D, 1J, 1J]   \n",
      " 43  SSWE2         1 BinTableHDU     90   2082R x 5C   [1D, 1D, 1D, 1J, 1J]   \n",
      " 44  SSWE3         1 BinTableHDU     90   2082R x 5C   [1D, 1D, 1D, 1J, 1J]   \n",
      " 45  SSWE4         1 BinTableHDU     90   2082R x 5C   [1D, 1D, 1D, 1J, 1J]   \n",
      " 46  SSWE5         1 BinTableHDU     90   2082R x 5C   [1D, 1D, 1D, 1J, 1J]   \n",
      " 47  SSWE6         1 BinTableHDU     90   2082R x 5C   [1D, 1D, 1D, 1J, 1J]   \n",
      " 48  SSWF1         1 BinTableHDU     90   2082R x 5C   [1D, 1D, 1D, 1J, 1J]   \n",
      " 49  SSWF2         1 BinTableHDU     90   2082R x 5C   [1D, 1D, 1D, 1J, 1J]   \n",
      " 50  SSWF3         1 BinTableHDU     90   2082R x 5C   [1D, 1D, 1D, 1J, 1J]   \n",
      " 51  SSWF5         1 BinTableHDU     90   2082R x 5C   [1D, 1D, 1D, 1J, 1J]   \n",
      " 52  SSWG1         1 BinTableHDU     90   2082R x 5C   [1D, 1D, 1D, 1J, 1J]   \n",
      " 53  SSWG2         1 BinTableHDU     90   2082R x 5C   [1D, 1D, 1D, 1J, 1J]   \n",
      " 54  SSWG3         1 BinTableHDU     90   2082R x 5C   [1D, 1D, 1D, 1J, 1J]   \n",
      " 55  SSWG4         1 BinTableHDU     90   2082R x 5C   [1D, 1D, 1D, 1J, 1J]   \n",
      " 56  History       1 ImageHDU        23   ()      \n",
      " 57  HistoryScript    1 BinTableHDU     39   88R x 1C   [351A]   \n",
      " 58  HistoryTasks    1 BinTableHDU     46   56R x 4C   [1K, 26A, 1K, 9A]   \n",
      " 59  HistoryParameters    1 BinTableHDU     74   233R x 10C   [1K, 20A, 7A, 21A, 1L, 1K, 1L, 74A, 11A, 38A]   \n"
     ]
    }
   ],
   "source": [
    "hdulist_spec_HR.info()"
   ]
  },
  {
   "cell_type": "code",
   "execution_count": 346,
   "metadata": {},
   "outputs": [
    {
     "data": {
      "text/plain": [
       "XTENSION= 'BINTABLE'           / Java FITS: Tue Apr 26 14:22:26 CEST 2016       \n",
       "BITPIX  =                    8                                                  \n",
       "NAXIS   =                    2 / Dimensionality                                 \n",
       "NAXIS1  =                   32                                                  \n",
       "NAXIS2  =                 1905                                                  \n",
       "PCOUNT  =                    0                                                  \n",
       "GCOUNT  =                    1                                                  \n",
       "TFIELDS =                    5                                                  \n",
       "LONGSTRN= 'OGIP 1.0'           / The OGIP long string convention may be used.   \n",
       "COMMENT This FITS file may contain long string keyword values that are          \n",
       "COMMENT continued over multiple keywords.  This convention uses the  '&'        \n",
       "COMMENT character at the end of a string which is then continued                \n",
       "COMMENT on subsequent keywords whose name = 'CONTINUE'.                         \n",
       "          -------------- Herschel Structure Data--------------------            \n",
       "          Following fields are private to the structure of the                  \n",
       "          Java object this HDU is representing.                                 \n",
       "EXTNAME = 'SLWA1   '           / name of this HDU                               \n",
       "CLASS___= 'herschel.spire.ia.dataset.SpireSpectrum1d' / java representation     \n",
       "          -------------- Herschel Parameter Data--------------------            \n",
       "          All actual parameter names are converted to FITS compliant            \n",
       "          conventions. Note that the HIERARCH comments contain the              \n",
       "          appropriate key mapping                                               \n",
       "DEC     =    2.322278804299413 / [deg] Actual Declination of pointing for thi&  \n",
       "COMMENT s channel                                                               \n",
       "RA      =    284.4117006865684 / [deg] Actual Right Ascension of pointing for&  \n",
       "COMMENT ~this channel                                                           \n",
       "CHNLNAME= 'SLWA1   '           / Channel name                                   \n",
       "META_0  =   1.9776710853628123 / [deg] The maximum in-band residual phase for&  \n",
       "COMMENT ~a given interferogram/spectrum                                         \n",
       "PCWRAP  =                    0 / [] Number of times that in-band phase change&  \n",
       "COMMENT s by +/-2pi                                                             \n",
       "WAVEUNIT= 'GHz     '           / Units of the WaveColumn                        \n",
       "WAVEDESC= 'Frequency'          / Description of WaveColumn                      \n",
       "ACTRES  =           1.18448225 / [GHz] Unpadded Spectral Resolution             \n",
       "META_1  =               12.655 / [cm] Maximum Unpadded Optical Path Difference  \n",
       "META_2  =                -0.56 / [cm] Minimum Unpadded Optical Path Difference  \n",
       "META_3  =               0.0025 / [cm] OPD Step Size                             \n",
       "META_4  =           5995.84916 / [GHz] Spectral Nyquist Frequency (1/2(deltaO&  \n",
       "COMMENT pd))                                                                    \n",
       "META_5  =                 5063 / [] Number of unique samples in the FFT         \n",
       "META_6  =                40000 / [] Total number of samples in the padded FFT&  \n",
       "COMMENT ~(same as nFft if no padding)                                           \n",
       "HIERARCH  key.DEC='dec'                                                         \n",
       "HIERARCH  key.RA='ra'                                                           \n",
       "HIERARCH  key.CHNLNAME='channelName'                                            \n",
       "HIERARCH  key.META_0='qcResidualPhase'                                          \n",
       "HIERARCH  key.PCWRAP='qcPhaseWrap'                                              \n",
       "HIERARCH  key.WAVEUNIT='waveunit'                                               \n",
       "HIERARCH  key.WAVEDESC='wavedescription'                                        \n",
       "HIERARCH  key.ACTRES='actualResolution'                                         \n",
       "HIERARCH  key.META_1='maxOpd'                                                   \n",
       "HIERARCH  key.META_2='minOpd'                                                   \n",
       "HIERARCH  key.META_3='deltaOpd'                                                 \n",
       "HIERARCH  key.META_4='nyquist'                                                  \n",
       "HIERARCH  key.META_5='numFft'                                                   \n",
       "HIERARCH  key.META_6='numFftFull'                                               \n",
       "          ---------------Herschel Column Information----------------            \n",
       "          Below follow additional fields to re-create the table                 \n",
       "          columns into herschel.ia.dataset.Column objects                       \n",
       "          * TTYPExxx - Column name                                              \n",
       "          * TCOLUxxx - Java Column container                                    \n",
       "          * TCLASxxx - Java ArrayData container                                 \n",
       "          * TFORMxxx - FITS column type                                         \n",
       "          * TDIMxxx  - FITS column dimensions                                   \n",
       "          * TUNITxxx - herschel.share.unit.Unit                                 \n",
       "TFORM1  = '1D      '                                                            \n",
       "TFORM2  = '1D      '                                                            \n",
       "TFORM3  = '1D      '                                                            \n",
       "TFORM4  = '1J      '                                                            \n",
       "TFORM5  = '1J      '                                                            \n",
       "TTYPE1  = 'wave    '           / Frequency                                      \n",
       "TCOLU1  = 'herschel.ia.dataset.spectrum.WaveColumn'                             \n",
       "TCLAS1  = 'herschel.ia.numeric.Double1d'                                        \n",
       "TUNIT1  = 'GHz     '           / herschel.share.unit.Unit                       \n",
       "TTYPE2  = 'flux    '           / Brightness                                     \n",
       "TCOLU2  = 'herschel.ia.dataset.Column'                                          \n",
       "TCLAS2  = 'herschel.ia.numeric.Double1d'                                        \n",
       "TUNIT2  = 'W m-2 Hz-1 sr-1'    / herschel.share.unit.Unit                       \n",
       "TTYPE3  = 'error   '           / Uncertainty                                    \n",
       "TCOLU3  = 'herschel.ia.dataset.Column'                                          \n",
       "TCLAS3  = 'herschel.ia.numeric.Double1d'                                        \n",
       "TUNIT3  = 'W m-2 Hz-1 sr-1'    / herschel.share.unit.Unit                       \n",
       "TTYPE4  = 'mask    '           / Mask                                           \n",
       "TCOLU4  = 'herschel.ia.dataset.Column'                                          \n",
       "TCLAS4  = 'herschel.ia.numeric.Int1d'                                           \n",
       "TUNIT4  = '1       '           / herschel.share.unit.Unit                       \n",
       "TTYPE5  = 'numScans'           / Number Of Scans                                \n",
       "TCOLU5  = 'herschel.ia.dataset.Column'                                          \n",
       "TUNIT5  = '1       '           / herschel.share.unit.Unit                       \n",
       "TCLAS5  = 'herschel.ia.numeric.Int1d'                                           "
      ]
     },
     "execution_count": 346,
     "metadata": {},
     "output_type": "execute_result"
    }
   ],
   "source": [
    "hdulist_apod[2].header"
   ]
  },
  {
   "cell_type": "code",
   "execution_count": 348,
   "metadata": {},
   "outputs": [],
   "source": [
    "data_spec_SLW=hdulist_spec_HR[4].data\n",
    "data_spec_SSW=hdulist_spec_HR[21].data\n",
    "data_apod=hdulist_apod[4].data\n",
    "data_apod_point=hdulist_apod_point[4].data\n",
    "data_point=hdulist_point[4].data\n"
   ]
  },
  {
   "cell_type": "code",
   "execution_count": 349,
   "metadata": {},
   "outputs": [
    {
     "data": {
      "text/plain": [
       "astropy.io.fits.fitsrec.FITS_rec"
      ]
     },
     "execution_count": 349,
     "metadata": {},
     "output_type": "execute_result"
    }
   ],
   "source": [
    "type(data_spec_SLW)"
   ]
  },
  {
   "cell_type": "code",
   "execution_count": 350,
   "metadata": {},
   "outputs": [
    {
     "data": {
      "text/plain": [
       "FITS_rec([( 446.99055488, 7.80235845e-20, 2.82982061e-19, 0, 14),\n",
       "          ( 447.29034734, 1.89343421e-19, 2.42139284e-19, 0, 14),\n",
       "          ( 447.59013979, 2.21158160e-19, 2.09215652e-19, 0, 14), ...,\n",
       "          (1017.19580999, 4.83718499e-18, 7.66795600e-19, 0, 14),\n",
       "          (1017.49560245, 5.06500809e-18, 7.10171658e-19, 0, 14),\n",
       "          (1017.79539491, 5.21767841e-18, 6.09757444e-19, 0, 14)],\n",
       "         dtype=(numpy.record, [('wave', '>f8'), ('flux', '>f8'), ('error', '>f8'), ('mask', '>i4'), ('numScans', '>i4')]))"
      ]
     },
     "execution_count": 350,
     "metadata": {},
     "output_type": "execute_result"
    }
   ],
   "source": [
    "data_spec_HR\n"
   ]
  },
  {
   "cell_type": "code",
   "execution_count": 351,
   "metadata": {},
   "outputs": [],
   "source": [
    "flux_spec_SLW=data_spec_SLW['flux']\n",
    "wvl_SLW=data_spec_SLW['wave']\n",
    "flux_spec_SSW=data_spec_SSW['flux']\n",
    "wvl_SSW=data_spec_SSW['wave']\n",
    "\n",
    "\n",
    "flux_apod=data_apod['flux']\n",
    "flux_point=data_point['wave']\n",
    "flux_apod_point=data_apod_point['flux']"
   ]
  },
  {
   "cell_type": "code",
   "execution_count": 359,
   "metadata": {},
   "outputs": [
    {
     "data": {
      "image/png": "[encoded data removed]",
      "text/plain": [
       "<matplotlib.figure.Figure at 0x11e96f748>"
      ]
     },
     "metadata": {},
     "output_type": "display_data"
    },
    {
     "data": {
      "image/png": "[encoded data removed]",
      "text/plain": [
       "<matplotlib.figure.Figure at 0x14857aef0>"
      ]
     },
     "metadata": {},
     "output_type": "display_data"
    }
   ],
   "source": [
    "plt.figure()\n",
    "#plt.plot(wvl,flux_spec,label=\"Spec\")\n",
    "#plt.plot(wvl,flux_apod,label=\"apod\")\n",
    "#plt.plot(wvl,flux_point,label=\"point\")\n",
    "plt.plot(wvl_SLW,flux_spec_SLW,label=\"SLW\")\n",
    "plt.plot(wvl_SSW,flux_spec_SSW,label=\"SSW\")\n",
    "#plt.ylim(-0.001e7, 0.001e7)\n",
    "plt.legend()\n",
    "Bins=190\n",
    "plt.figure()\n",
    "plt.hist(flux_spec_SLW,Bins)\n",
    "plt.show()\n"
   ]
  },
  {
   "cell_type": "markdown",
   "metadata": {},
   "source": [
    "Fichiers SPIRE \"Type1\" - Comprendre l'architecture du fichier"
   ]
  },
  {
   "cell_type": "code",
   "execution_count": 212,
   "metadata": {},
   "outputs": [],
   "source": [
    "hdulist=fits.open(direc1+'1342254041/level2/HR_SLW_cube/hspirespectrometer1342254041_spg_SLW_HR_20ssc_1461674083048.fits')"
   ]
  },
  {
   "cell_type": "code",
   "execution_count": 213,
   "metadata": {},
   "outputs": [
    {
     "name": "stdout",
     "output_type": "stream",
     "text": [
      "Filename: /Users/bordieremma/Documents/Magistere_3/STAGE_CFHT/Data/Herschel_pipeline/1342254041/level2/HR_SLW_cube/hspirespectrometer1342254041_spg_SLW_HR_20ssc_1461674083048.fits\n",
      "No.    Name      Ver    Type      Cards   Dimensions   Format\n",
      "  0  PRIMARY       1 PrimaryHDU     336   ()      \n",
      "  1  image         1 ImageHDU        63   (7, 8, 1905)   float64   \n",
      "  2  error         1 ImageHDU        63   (7, 8, 1905)   float64   \n",
      "  3  coverage      1 ImageHDU        63   (7, 8, 1905)   float64   \n",
      "  4  flag          1 ImageHDU        26   (7, 8, 1905)   int16   \n"
     ]
    }
   ],
   "source": [
    "hdulist.info()"
   ]
  },
  {
   "cell_type": "code",
   "execution_count": 214,
   "metadata": {},
   "outputs": [
    {
     "data": {
      "text/plain": [
       "XTENSION= 'IMAGE   '           / Java FITS: Tue Apr 26 14:25:16 CEST 2016       \n",
       "BITPIX  =                  -64                                                  \n",
       "NAXIS   =                    3 / Dimensionality                                 \n",
       "NAXIS1  =                    7                                                  \n",
       "NAXIS2  =                    8                                                  \n",
       "NAXIS3  =                 1905                                                  \n",
       "PCOUNT  =                    0 / No extra parameters                            \n",
       "GCOUNT  =                    1 / One group                                      \n",
       "LONGSTRN= 'OGIP 1.0'           / The OGIP long string convention may be used.   \n",
       "COMMENT This FITS file may contain long string keyword values that are          \n",
       "COMMENT continued over multiple keywords.  This convention uses the  '&'        \n",
       "COMMENT character at the end of a string which is then continued                \n",
       "COMMENT on subsequent keywords whose name = 'CONTINUE'.                         \n",
       "          -------------- Herschel Structure Data--------------------            \n",
       "          Following fields are private to the structure of the                  \n",
       "          Java object this HDU is representing.                                 \n",
       "EXTNAME = 'image   '           / name of this HDU                               \n",
       "CLASS___= 'herschel.ia.dataset.ArrayDataset' / java representation              \n",
       "INFO____= 'Brightness'                                                          \n",
       "DATA____= 'herschel.ia.numeric.Double3d' / java Data                            \n",
       "QTTY____= 'W m-2 Hz-1 sr-1'    / Unit of the data                               \n",
       "BUNIT   = 'W m-2 Hz-1 sr-1'    / Unit of the data                               \n",
       "          -------------- Herschel Parameter Data--------------------            \n",
       "          All actual parameter names are converted to FITS compliant            \n",
       "          conventions. Note that the HIERARCH comments contain the              \n",
       "          appropriate key mapping                                               \n",
       "CUNIT1  = 'deg     '           / WCS: Unit axis 1, default=\"\"                   \n",
       "CUNIT2  = 'deg     '           / WCS: Unit axis 2, default=\"\"                   \n",
       "CUNIT3  = 'GHz     '           / WCS: Unit axis 3, default=\"\"                   \n",
       "META_0  = 'Equatorial'         / WCS: Reference frame, default=\"ICRS\"           \n",
       "CDELT1  =   -0.009722222222222 / [] WCS: Pixel scale axis 1, unit=Angle         \n",
       "CDELT2  = 0.009722222222222222 / [] WCS: Pixel scale axis 2, unit=Angle         \n",
       "CTYPE1  = 'RA---TAN'           / WCS: Projection type axis 1, default=\"LINEAR\"  \n",
       "CTYPE2  = 'DEC--TAN'           / WCS: Projection type axis 2, default=\"LINEAR\"  \n",
       "CRVAL1  =              280.498 / [] WCS: First coordinate of reference pixel    \n",
       "CRVAL2  =             -5.26149 / [] WCS: Second coordinate of reference pixel   \n",
       "CRPIX2  =                  5.0 / [] WCS: Reference pixel position axis 2, uni&  \n",
       "COMMENT t=Scalar                                                                \n",
       "CRPIX1  =                  4.0 / [] WCS: Reference pixel position axis 1, uni&  \n",
       "COMMENT t=Scalar                                                                \n",
       "CRVAL3  =         446.99055488 / [] WCS: Wavelength, time, ... of reference l&  \n",
       "COMMENT ayer; unit=length,time,...                                              \n",
       "CRPIX3  =                  1.0 / [] WCS: Reference layer index, unit=Scalar     \n",
       "CDELT3  =   0.2997924579989496 / [] WCS: Scale in 3rd dimension, unit=Length,&  \n",
       "COMMENT ~Duration, ...                                                          \n",
       "CTYPE3  = 'Frequency&'                                                          \n",
       "CONTINUE  '' / &                                                                \n",
       "COMMENT WCS: Description of what the 3rd axis represents                        \n",
       "HIERARCH  key.CUNIT1='cunit1'                                                   \n",
       "HIERARCH  key.CUNIT2='cunit2'                                                   \n",
       "HIERARCH  key.CUNIT3='cunit3'                                                   \n",
       "HIERARCH  key.META_0='radesys'                                                  \n",
       "HIERARCH  key.CDELT1='cdelt1'                                                   \n",
       "HIERARCH  key.CDELT2='cdelt2'                                                   \n",
       "HIERARCH  key.CTYPE1='ctype1'                                                   \n",
       "HIERARCH  key.CTYPE2='ctype2'                                                   \n",
       "HIERARCH  key.CRVAL1='crval1'                                                   \n",
       "HIERARCH  key.CRVAL2='crval2'                                                   \n",
       "HIERARCH  key.CRPIX2='crpix2'                                                   \n",
       "HIERARCH  key.CRPIX1='crpix1'                                                   \n",
       "HIERARCH  key.CRVAL3='crval3'                                                   \n",
       "HIERARCH  key.CRPIX3='crpix3'                                                   \n",
       "HIERARCH  key.CDELT3='cdelt3'                                                   \n",
       "HIERARCH  key.CTYPE3='ctype3'                                                   "
      ]
     },
     "execution_count": 214,
     "metadata": {},
     "output_type": "execute_result"
    }
   ],
   "source": [
    "hdulist[1].header"
   ]
  },
  {
   "cell_type": "code",
   "execution_count": 215,
   "metadata": {},
   "outputs": [
    {
     "data": {
      "text/plain": [
       "(1905, 8, 7)"
      ]
     },
     "execution_count": 215,
     "metadata": {},
     "output_type": "execute_result"
    }
   ],
   "source": [
    "np.shape(hdulist[1].data)"
   ]
  },
  {
   "cell_type": "code",
   "execution_count": 434,
   "metadata": {},
   "outputs": [],
   "source": [
    "flux=hdulist[1].data"
   ]
  },
  {
   "cell_type": "code",
   "execution_count": 438,
   "metadata": {},
   "outputs": [
    {
     "name": "stderr",
     "output_type": "stream",
     "text": [
      "/Users/bordieremma/anaconda3/lib/python3.6/site-packages/ipykernel_launcher.py:2: RuntimeWarning: Mean of empty slice\n",
      "  \n"
     ]
    },
    {
     "data": {
      "image/png": "[encoded data removed]",
      "text/plain": [
       "<matplotlib.figure.Figure at 0x1313bee10>"
      ]
     },
     "metadata": {},
     "output_type": "display_data"
    }
   ],
   "source": [
    "plt.figure()\n",
    "plt.imshow(np.nanmean(flux,axis=0), origin=\"lower\")\n",
    "plt.colorbar()\n",
    "plt.show()"
   ]
  },
  {
   "cell_type": "code",
   "execution_count": 218,
   "metadata": {},
   "outputs": [
    {
     "data": {
      "text/plain": [
       "(1905,)"
      ]
     },
     "execution_count": 218,
     "metadata": {},
     "output_type": "execute_result"
    }
   ],
   "source": [
    "np.shape(flux[:,1,1])"
   ]
  },
  {
   "cell_type": "code",
   "execution_count": 273,
   "metadata": {},
   "outputs": [
    {
     "name": "stdout",
     "output_type": "stream",
     "text": [
      "[nan nan nan ... nan nan nan]\n",
      "(1, 1905)\n"
     ]
    }
   ],
   "source": [
    "print(flux[:,1,2])\n",
    "print(np.shape(np.where(np.isnan(flux[:,1,2]))))"
   ]
  },
  {
   "cell_type": "code",
   "execution_count": 450,
   "metadata": {},
   "outputs": [
    {
     "name": "stdout",
     "output_type": "stream",
     "text": [
      "(1905,)\n"
     ]
    }
   ],
   "source": [
    "print(np.shape(np.nanmean(flux,axis=(1,2))))"
   ]
  },
  {
   "cell_type": "code",
   "execution_count": 451,
   "metadata": {},
   "outputs": [
    {
     "data": {
      "image/png": "[encoded data removed]",
      "text/plain": [
       "<matplotlib.figure.Figure at 0x149cc5048>"
      ]
     },
     "metadata": {},
     "output_type": "display_data"
    }
   ],
   "source": [
    "plt.figure()\n",
    "#plt.plot(flux[:,7,6])\n",
    "plt.plot(np.nanmean(flux,axis=(2,1)))\n",
    "#plt.plot(flux[:,1,6])\n",
    "#plt.plot(flux[:,3,4])\n",
    "plt.show()"
   ]
  },
  {
   "cell_type": "code",
   "execution_count": 227,
   "metadata": {},
   "outputs": [],
   "source": [
    "flux_mean=np.mean(flux,axis=0)"
   ]
  },
  {
   "cell_type": "code",
   "execution_count": 228,
   "metadata": {},
   "outputs": [
    {
     "data": {
      "text/plain": [
       "(8, 7)"
      ]
     },
     "execution_count": 228,
     "metadata": {},
     "output_type": "execute_result"
    }
   ],
   "source": [
    "np.shape(flux_mean)"
   ]
  },
  {
   "cell_type": "code",
   "execution_count": 230,
   "metadata": {},
   "outputs": [
    {
     "data": {
      "image/png": "[encoded data removed]",
      "text/plain": [
       "<matplotlib.figure.Figure at 0x1202a40f0>"
      ]
     },
     "metadata": {},
     "output_type": "display_data"
    }
   ],
   "source": [
    "plt.figure()\n",
    "plt.imshow(flux_mean,origin='lower')\n",
    "plt.colorbar()\n",
    "plt.show()"
   ]
  },
  {
   "cell_type": "code",
   "execution_count": 240,
   "metadata": {},
   "outputs": [
    {
     "name": "stdout",
     "output_type": "stream",
     "text": [
      "7.90975332771827e-18\n",
      "-3.4273675266166523e-18\n"
     ]
    }
   ],
   "source": [
    "flux.flatten()\n",
    "print(np.nanmax(flux))\n",
    "print(np.nanmin(flux))"
   ]
  },
  {
   "cell_type": "code",
   "execution_count": 417,
   "metadata": {},
   "outputs": [
    {
     "name": "stdout",
     "output_type": "stream",
     "text": [
      "<class 'numpy.ndarray'>\n",
      "(106680,)\n"
     ]
    }
   ],
   "source": [
    "print(type(flux.flatten()))\n",
    "print(np.shape(flux.flatten()))"
   ]
  },
  {
   "cell_type": "code",
   "execution_count": 259,
   "metadata": {},
   "outputs": [
    {
     "name": "stdout",
     "output_type": "stream",
     "text": [
      "[ True  True False ...  True False  True]\n",
      "[           nan            nan 1.58427273e-18 ...            nan\n",
      " 4.49143914e-18            nan]\n",
      "(1, 34290)\n",
      "0.32142857142857145\n"
     ]
    }
   ],
   "source": [
    "print(np.isnan(flux.flatten()))\n",
    "print(flux.flatten())\n",
    "print(np.shape(np.where(np.isnan(flux.flatten()))))\n",
    "print(np.shape(np.where(np.isnan(flux.flatten())))[1]/len(flux.flatten()))"
   ]
  },
  {
   "cell_type": "code",
   "execution_count": 312,
   "metadata": {},
   "outputs": [
    {
     "name": "stdout",
     "output_type": "stream",
     "text": [
      "2.1067571006842714e-18\n",
      "(1, 34290)\n",
      "[2.10675710e-18 2.10675710e-18 1.58427273e-18 2.10675710e-18\n",
      " 2.10675710e-18 2.10675710e-18 2.10675710e-18 2.10675710e-18\n",
      " 1.51191916e-18 2.10675710e-18]\n"
     ]
    }
   ],
   "source": [
    "hist=flux.flatten()\n",
    "print(np.nanmean(hist))\n",
    "index_nan=np.where(np.isnan(hist))\n",
    "for i in index_nan:\n",
    "    hist[i]=np.nanmean(hist)\n",
    "print(np.shape(index_nan))\n",
    "print(hist[:10])"
   ]
  },
  {
   "cell_type": "code",
   "execution_count": 317,
   "metadata": {},
   "outputs": [
    {
     "data": {
      "image/png": "[encoded data removed]",
      "text/plain": [
       "<matplotlib.figure.Figure at 0x149919d68>"
      ]
     },
     "metadata": {},
     "output_type": "display_data"
    }
   ],
   "source": [
    "NBINS = 10\n",
    "plt.figure()\n",
    "plt.hist(hist, NBINS)\n",
    "plt.show()"
   ]
  },
  {
   "cell_type": "code",
   "execution_count": null,
   "metadata": {},
   "outputs": [],
   "source": []
  }
 ],
 "metadata": {
  "kernelspec": {
   "display_name": "Python 3",
   "language": "python",
   "name": "python3"
  },
  "language_info": {
   "codemirror_mode": {
    "name": "ipython",
    "version": 3
   },
   "file_extension": ".py",
   "mimetype": "text/x-python",
   "name": "python",
   "nbconvert_exporter": "python",
   "pygments_lexer": "ipython3",
   "version": "3.6.4"
  }
 },
 "nbformat": 4,
 "nbformat_minor": 2
}
